{
 "cells": [
  {
   "cell_type": "code",
   "execution_count": null,
   "id": "c3a861d5-aa17-477c-8ae7-0f94c1fa30c3",
   "metadata": {},
   "outputs": [],
   "source": [
    "hgugukg"
   ]
  }
 ],
 "metadata": {
  "kernelspec": {
   "display_name": "Python 3 (ipykernel)",
   "language": "python",
   "name": "python3"
  },
  "language_info": {
   "codemirror_mode": {
    "name": "ipython",
    "version": 3
   },
   "file_extension": ".py",
   "mimetype": "text/x-python",
   "name": "python",
   "nbconvert_exporter": "python",
   "pygments_lexer": "ipython3",
   "version": "3.11.5"
  }
 },
 "nbformat": 4,
 "nbformat_minor": 5
}
