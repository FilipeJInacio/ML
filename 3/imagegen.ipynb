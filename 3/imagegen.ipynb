{
 "cells": [
  {
   "cell_type": "markdown",
   "id": "c62dc4cd",
   "metadata": {},
   "source": [
    "### **Imports Made**:\n",
    "- Numpy for general purpose tasks (ex: file loads, matrix operations and arrangements, etc)\n",
    "- sklearn.linear_model for the multiple models tested\n",
    "- sklearn.mixture for Gaussian Mixture Model\n",
    "- data_spliter for splitting the data into training and testing sets\n",
    "- matplotlib.pyplot for plotting the data"
   ]
  },
  {
   "cell_type": "code",
   "execution_count": 8,
   "id": "c3a861d5-aa17-477c-8ae7-0f94c1fa30c3",
   "metadata": {},
   "outputs": [],
   "source": [
    "import numpy as np\n",
    "import matplotlib.pyplot as plt\n",
    "from imblearn.over_sampling import SMOTE\n",
    "from sklearn.model_selection import train_test_split\n",
    "import tensorflow as tf"
   ]
  },
  {
   "cell_type": "code",
   "execution_count": 9,
   "id": "267efc7c",
   "metadata": {},
   "outputs": [],
   "source": [
    "x = np.load(\"Xtrain_Classification1.npy\")\n",
    "y = np.load(\"ytrain_Classification1.npy\")\n",
    "x_project = np.load(\"Xtest_Classification1.npy\")\n",
    "\n"
   ]
  },
  {
   "cell_type": "code",
   "execution_count": 10,
   "id": "a1d056d1",
   "metadata": {},
   "outputs": [],
   "source": [
    "X_train, X_test, y_train, y_test = train_test_split(x, y, test_size=0.2, random_state=1)\n",
    "smote = SMOTE(random_state=1)\n",
    "X_train_resampled, y_train_resampled = smote.fit_resample(X_train, y_train)"
   ]
  },
  {
   "cell_type": "code",
   "execution_count": 15,
   "id": "ab9d777a",
   "metadata": {},
   "outputs": [
    {
     "name": "stdout",
     "output_type": "stream",
     "text": [
      "{0.0: 4280, 1.0: 4280}\n",
      "{0.0: 5358, 1.0: 896}\n",
      "(8560, 28, 28, 3)\n",
      "(8560,)\n"
     ]
    }
   ],
   "source": [
    "unique, counts = np.unique(y_train_resampled, return_counts=True)\n",
    "print(dict(zip(unique, counts)))\n",
    "unique, counts = np.unique(y, return_counts=True)\n",
    "print(dict(zip(unique, counts)))\n",
    "\n",
    "X_train_resampled = X_train_resampled.reshape(-1, 28, 28, 3)\n",
    "print(X_train_resampled.shape)\n",
    "print(y_train_resampled.shape)"
   ]
  },
  {
   "cell_type": "code",
   "execution_count": 26,
   "id": "d1a18cc9",
   "metadata": {},
   "outputs": [],
   "source": [
    "\n",
    "# Initialize ImageDataGenerator with desired augmentation settings\n",
    "datagen = tf.keras.preprocessing.image.ImageDataGenerator(\n",
    "    rotation_range=20,\n",
    "    shear_range=0.2,\n",
    "    zoom_range=0.2,\n",
    "    horizontal_flip=True,\n",
    "    fill_mode='nearest')\n",
    "\n",
    "\n",
    "augmented_data = []\n",
    "augmented_labels = []\n",
    "\n",
    "for i in range(X_train_resampled.shape[0]):\n",
    "    img = X_train_resampled[i]\n",
    "    label = y_train_resampled[i]\n",
    "    img = img.reshape((1,) + img.shape)  # Reshape the image for flow method\n",
    "    label = np.array([label])  # Convert label to numpy array\n",
    "    for batch in datagen.flow(img, label, batch_size=1):\n",
    "        augmented_data.append(batch[0][0])  # Extract augmented image\n",
    "        augmented_labels.append(batch[1][0])  # Extract augmented label\n",
    "        break  # Exit the loop after one iteration to avoid infinite loop\n",
    "\n",
    "# Convert augmented data and labels to numpy arrays\n",
    "augmented_data = np.array(augmented_data)\n",
    "augmented_labels = np.array(augmented_labels)"
   ]
  },
  {
   "cell_type": "code",
   "execution_count": 27,
   "id": "32def046",
   "metadata": {},
   "outputs": [
    {
     "name": "stdout",
     "output_type": "stream",
     "text": [
      "(8560, 28, 28, 3)\n",
      "[[[[231 137 155]\n",
      "   [231 137 155]\n",
      "   [230 137 155]\n",
      "   ...\n",
      "   [221 124 140]\n",
      "   [221 124 141]\n",
      "   [220 123 140]]\n",
      "\n",
      "  [[230 136 154]\n",
      "   [230 136 154]\n",
      "   [230 136 154]\n",
      "   ...\n",
      "   [221 124 140]\n",
      "   [220 123 140]\n",
      "   [220 123 140]]\n",
      "\n",
      "  [[227 133 151]\n",
      "   [227 133 151]\n",
      "   [227 134 151]\n",
      "   ...\n",
      "   [223 127 141]\n",
      "   [221 125 141]\n",
      "   [219 122 140]]\n",
      "\n",
      "  ...\n",
      "\n",
      "  [[225 134 149]\n",
      "   [222 131 146]\n",
      "   [220 129 144]\n",
      "   ...\n",
      "   [213 129 135]\n",
      "   [212 129 134]\n",
      "   [211 128 133]]\n",
      "\n",
      "  [[225 134 149]\n",
      "   [222 131 146]\n",
      "   [220 129 144]\n",
      "   ...\n",
      "   [211 128 134]\n",
      "   [211 129 135]\n",
      "   [211 129 135]]\n",
      "\n",
      "  [[225 134 149]\n",
      "   [222 131 146]\n",
      "   [220 129 144]\n",
      "   ...\n",
      "   [211 126 133]\n",
      "   [211 127 133]\n",
      "   [211 127 134]]]\n",
      "\n",
      "\n",
      " [[[247 174 165]\n",
      "   [247 174 165]\n",
      "   [247 174 165]\n",
      "   ...\n",
      "   [247 159 157]\n",
      "   [247 162 159]\n",
      "   [245 162 158]]\n",
      "\n",
      "  [[247 174 165]\n",
      "   [247 174 165]\n",
      "   [247 174 165]\n",
      "   ...\n",
      "   [245 158 155]\n",
      "   [245 161 157]\n",
      "   [243 160 155]]\n",
      "\n",
      "  [[247 174 165]\n",
      "   [247 174 165]\n",
      "   [247 174 165]\n",
      "   ...\n",
      "   [244 158 153]\n",
      "   [244 160 155]\n",
      "   [241 159 153]]\n",
      "\n",
      "  ...\n",
      "\n",
      "  [[247 165 144]\n",
      "   [244 161 140]\n",
      "   [241 156 136]\n",
      "   ...\n",
      "   [242 156 141]\n",
      "   [242 156 141]\n",
      "   [242 155 141]]\n",
      "\n",
      "  [[247 165 146]\n",
      "   [245 161 141]\n",
      "   [242 156 137]\n",
      "   ...\n",
      "   [243 157 142]\n",
      "   [243 157 142]\n",
      "   [243 157 142]]\n",
      "\n",
      "  [[249 165 147]\n",
      "   [246 161 142]\n",
      "   [243 156 137]\n",
      "   ...\n",
      "   [242 158 142]\n",
      "   [242 158 142]\n",
      "   [242 157 142]]]\n",
      "\n",
      "\n",
      " [[[205 132 127]\n",
      "   [206 131 127]\n",
      "   [208 131 129]\n",
      "   ...\n",
      "   [222 136 141]\n",
      "   [215 131 133]\n",
      "   [211 130 128]]\n",
      "\n",
      "  [[201 137 131]\n",
      "   [201 135 130]\n",
      "   [198 131 127]\n",
      "   ...\n",
      "   [220 135 139]\n",
      "   [213 130 131]\n",
      "   [212 131 129]]\n",
      "\n",
      "  [[189 134 129]\n",
      "   [187 131 127]\n",
      "   [178 120 117]\n",
      "   ...\n",
      "   [214 129 133]\n",
      "   [210 127 128]\n",
      "   [214 131 129]]\n",
      "\n",
      "  ...\n",
      "\n",
      "  [[232 146 152]\n",
      "   [231 147 153]\n",
      "   [225 145 150]\n",
      "   ...\n",
      "   [220 131 138]\n",
      "   [216 124 133]\n",
      "   [211 119 129]]\n",
      "\n",
      "  [[233 146 152]\n",
      "   [231 146 152]\n",
      "   [224 142 148]\n",
      "   ...\n",
      "   [228 130 136]\n",
      "   [230 130 138]\n",
      "   [231 131 139]]\n",
      "\n",
      "  [[234 147 153]\n",
      "   [229 146 152]\n",
      "   [222 140 146]\n",
      "   ...\n",
      "   [236 131 137]\n",
      "   [231 125 132]\n",
      "   [230 124 132]]]\n",
      "\n",
      "\n",
      " ...\n",
      "\n",
      "\n",
      " [[[114 133 107]\n",
      "   [146 133 139]\n",
      "   [161 132 153]\n",
      "   ...\n",
      "   [156 130 149]\n",
      "   [156 129 150]\n",
      "   [155 131 151]]\n",
      "\n",
      "  [[ 49 134  68]\n",
      "   [ 56 134  49]\n",
      "   [ 87 134  87]\n",
      "   ...\n",
      "   [156 130 150]\n",
      "   [156 130 150]\n",
      "   [129 105 152]]\n",
      "\n",
      "  [[ 52 136 158]\n",
      "   [ 49 135 129]\n",
      "   [ 49 135 118]\n",
      "   ...\n",
      "   [158 132 151]\n",
      "   [157 132 152]\n",
      "   [101  77 153]]\n",
      "\n",
      "  ...\n",
      "\n",
      "  [[ 41  22  43]\n",
      "   [ 42  24  45]\n",
      "   [ 44  27  47]\n",
      "   ...\n",
      "   [ 44  23  43]\n",
      "   [ 43  23  43]\n",
      "   [ 42  22  43]]\n",
      "\n",
      "  [[ 42  23  44]\n",
      "   [ 42  25  45]\n",
      "   [ 43  27  47]\n",
      "   ...\n",
      "   [ 45  24  42]\n",
      "   [ 45  24  43]\n",
      "   [ 44  24  43]]\n",
      "\n",
      "  [[ 42  23  44]\n",
      "   [ 42  26  46]\n",
      "   [ 43  27  47]\n",
      "   ...\n",
      "   [ 46  23  40]\n",
      "   [ 46  23  41]\n",
      "   [ 46  23  42]]]\n",
      "\n",
      "\n",
      " [[[203 176 178]\n",
      "   [205 179 182]\n",
      "   [208 182 186]\n",
      "   ...\n",
      "   [173 164 174]\n",
      "   [163 158 158]\n",
      "   [179 161 170]]\n",
      "\n",
      "  [[193 166 165]\n",
      "   [198 170 171]\n",
      "   [202 175 177]\n",
      "   ...\n",
      "   [167 161 173]\n",
      "   [161 157 152]\n",
      "   [185 162 176]]\n",
      "\n",
      "  [[181 162 151]\n",
      "   [187 162 157]\n",
      "   [192 164 163]\n",
      "   ...\n",
      "   [165 160 168]\n",
      "   [168 158 159]\n",
      "   [186 163 177]]\n",
      "\n",
      "  ...\n",
      "\n",
      "  [[192 167 187]\n",
      "   [178 153 186]\n",
      "   [169 144 169]\n",
      "   ...\n",
      "   [200 159 169]\n",
      "   [198 156 166]\n",
      "   [195 152 162]]\n",
      "\n",
      "  [[192 167 187]\n",
      "   [173 148 185]\n",
      "   [168 143 165]\n",
      "   ...\n",
      "   [203 163 173]\n",
      "   [202 161 171]\n",
      "   [201 159 169]]\n",
      "\n",
      "  [[187 162 186]\n",
      "   [171 146 179]\n",
      "   [168 142 169]\n",
      "   ...\n",
      "   [204 166 176]\n",
      "   [203 164 175]\n",
      "   [203 163 174]]]\n",
      "\n",
      "\n",
      " [[[129 125 176]\n",
      "   [130 163 180]\n",
      "   [130 163 180]\n",
      "   ...\n",
      "   [188 156 175]\n",
      "   [188 156 175]\n",
      "   [188 156 175]]\n",
      "\n",
      "  [[128 115 175]\n",
      "   [130 163 180]\n",
      "   [130 163 179]\n",
      "   ...\n",
      "   [188 158 177]\n",
      "   [188 158 177]\n",
      "   [188 159 178]]\n",
      "\n",
      "  [[128 106 174]\n",
      "   [130 158 179]\n",
      "   [130 163 179]\n",
      "   ...\n",
      "   [190 160 180]\n",
      "   [189 161 180]\n",
      "   [189 162 181]]\n",
      "\n",
      "  ...\n",
      "\n",
      "  [[145 119 195]\n",
      "   [145 118 195]\n",
      "   [142 115 190]\n",
      "   ...\n",
      "   [138 183 203]\n",
      "   [139 184 204]\n",
      "   [137 181 203]]\n",
      "\n",
      "  [[141 114 190]\n",
      "   [140 113 189]\n",
      "   [138 111 153]\n",
      "   ...\n",
      "   [138 183 203]\n",
      "   [139 184 204]\n",
      "   [137 181 203]]\n",
      "\n",
      "  [[136 107 134]\n",
      "   [135 106 127]\n",
      "   [134 105 125]\n",
      "   ...\n",
      "   [138 183 203]\n",
      "   [139 184 204]\n",
      "   [138 182 203]]]]\n"
     ]
    }
   ],
   "source": [
    "print(augmented_data.shape)\n",
    "#print(augmented_data)\n",
    "#print(X_train_resampled)\n",
    "\n",
    "augmented_data=np.round(augmented_data).astype(int)\n",
    "print(augmented_data)"
   ]
  },
  {
   "cell_type": "code",
   "execution_count": 28,
   "id": "b05b3c1f",
   "metadata": {},
   "outputs": [
    {
     "data": {
      "image/png": "[encoded data removed]",
      "text/plain": [
       "<Figure size 300x300 with 1 Axes>"
      ]
     },
     "metadata": {},
     "output_type": "display_data"
    },
    {
     "name": "stdout",
     "output_type": "stream",
     "text": [
      "0.0\n"
     ]
    },
    {
     "data": {
      "image/png": "[encoded data removed]",
      "text/plain": [
       "<Figure size 300x300 with 1 Axes>"
      ]
     },
     "metadata": {},
     "output_type": "display_data"
    },
    {
     "name": "stdout",
     "output_type": "stream",
     "text": [
      "0.0\n"
     ]
    },
    {
     "data": {
      "image/png": "[encoded data removed]",
      "text/plain": [
       "<Figure size 300x300 with 1 Axes>"
      ]
     },
     "metadata": {},
     "output_type": "display_data"
    },
    {
     "name": "stdout",
     "output_type": "stream",
     "text": [
      "0.0\n"
     ]
    },
    {
     "data": {
      "image/png": "[encoded data removed]",
      "text/plain": [
       "<Figure size 300x300 with 1 Axes>"
      ]
     },
     "metadata": {},
     "output_type": "display_data"
    },
    {
     "name": "stdout",
     "output_type": "stream",
     "text": [
      "0.0\n"
     ]
    },
    {
     "data": {
      "image/png": "[encoded data removed]",
      "text/plain": [
       "<Figure size 300x300 with 1 Axes>"
      ]
     },
     "metadata": {},
     "output_type": "display_data"
    },
    {
     "name": "stdout",
     "output_type": "stream",
     "text": [
      "1.0\n"
     ]
    },
    {
     "data": {
      "image/png": "[encoded data removed]",
      "text/plain": [
       "<Figure size 300x300 with 1 Axes>"
      ]
     },
     "metadata": {},
     "output_type": "display_data"
    },
    {
     "name": "stdout",
     "output_type": "stream",
     "text": [
      "1.0\n"
     ]
    },
    {
     "data": {
      "image/png": "[encoded data removed]",
      "text/plain": [
       "<Figure size 300x300 with 1 Axes>"
      ]
     },
     "metadata": {},
     "output_type": "display_data"
    },
    {
     "name": "stdout",
     "output_type": "stream",
     "text": [
      "1.0\n"
     ]
    },
    {
     "data": {
      "image/png": "[encoded data removed]",
      "text/plain": [
       "<Figure size 300x300 with 1 Axes>"
      ]
     },
     "metadata": {},
     "output_type": "display_data"
    },
    {
     "name": "stdout",
     "output_type": "stream",
     "text": [
      "1.0\n"
     ]
    },
    {
     "data": {
      "image/png": "[encoded data removed]",
      "text/plain": [
       "<Figure size 300x300 with 1 Axes>"
      ]
     },
     "metadata": {},
     "output_type": "display_data"
    },
    {
     "name": "stdout",
     "output_type": "stream",
     "text": [
      "0.0\n"
     ]
    },
    {
     "data": {
      "image/png": "[encoded data removed]",
      "text/plain": [
       "<Figure size 300x300 with 1 Axes>"
      ]
     },
     "metadata": {},
     "output_type": "display_data"
    },
    {
     "name": "stdout",
     "output_type": "stream",
     "text": [
      "0.0\n"
     ]
    },
    {
     "data": {
      "image/png": "[encoded data removed]",
      "text/plain": [
       "<Figure size 300x300 with 1 Axes>"
      ]
     },
     "metadata": {},
     "output_type": "display_data"
    },
    {
     "name": "stdout",
     "output_type": "stream",
     "text": [
      "0.0\n"
     ]
    },
    {
     "data": {
      "image/png": "[encoded data removed]",
      "text/plain": [
       "<Figure size 300x300 with 1 Axes>"
      ]
     },
     "metadata": {},
     "output_type": "display_data"
    },
    {
     "name": "stdout",
     "output_type": "stream",
     "text": [
      "0.0\n"
     ]
    },
    {
     "data": {
      "image/png": "[encoded data removed]",
      "text/plain": [
       "<Figure size 300x300 with 1 Axes>"
      ]
     },
     "metadata": {},
     "output_type": "display_data"
    },
    {
     "name": "stdout",
     "output_type": "stream",
     "text": [
      "0.0\n"
     ]
    },
    {
     "data": {
      "image/png": "[encoded data removed]",
      "text/plain": [
       "<Figure size 300x300 with 1 Axes>"
      ]
     },
     "metadata": {},
     "output_type": "display_data"
    },
    {
     "name": "stdout",
     "output_type": "stream",
     "text": [
      "0.0\n"
     ]
    },
    {
     "data": {
      "image/png": "[encoded data removed]",
      "text/plain": [
       "<Figure size 300x300 with 1 Axes>"
      ]
     },
     "metadata": {},
     "output_type": "display_data"
    },
    {
     "name": "stdout",
     "output_type": "stream",
     "text": [
      "1.0\n"
     ]
    },
    {
     "data": {
      "image/png": "[encoded data removed]",
      "text/plain": [
       "<Figure size 300x300 with 1 Axes>"
      ]
     },
     "metadata": {},
     "output_type": "display_data"
    },
    {
     "name": "stdout",
     "output_type": "stream",
     "text": [
      "1.0\n"
     ]
    },
    {
     "data": {
      "image/png": "[encoded data removed]",
      "text/plain": [
       "<Figure size 300x300 with 1 Axes>"
      ]
     },
     "metadata": {},
     "output_type": "display_data"
    },
    {
     "name": "stdout",
     "output_type": "stream",
     "text": [
      "0.0\n"
     ]
    },
    {
     "data": {
      "image/png": "[encoded data removed]",
      "text/plain": [
       "<Figure size 300x300 with 1 Axes>"
      ]
     },
     "metadata": {},
     "output_type": "display_data"
    },
    {
     "name": "stdout",
     "output_type": "stream",
     "text": [
      "0.0\n"
     ]
    },
    {
     "data": {
      "image/png": "[encoded data removed]",
      "text/plain": [
       "<Figure size 300x300 with 1 Axes>"
      ]
     },
     "metadata": {},
     "output_type": "display_data"
    },
    {
     "name": "stdout",
     "output_type": "stream",
     "text": [
      "0.0\n"
     ]
    },
    {
     "data": {
      "image/png": "[encoded data removed]",
      "text/plain": [
       "<Figure size 300x300 with 1 Axes>"
      ]
     },
     "metadata": {},
     "output_type": "display_data"
    },
    {
     "name": "stdout",
     "output_type": "stream",
     "text": [
      "0.0\n"
     ]
    }
   ],
   "source": [
    "for i in range(10):\n",
    "    color_image = np.stack([augmented_data[i][:,:,0], augmented_data[i][:,:,1], augmented_data[i][:,:,2]], axis=-1)\n",
    "    plt.figure(figsize=(3, 3))\n",
    "    plt.imshow(color_image)\n",
    "    plt.axis(\"off\")\n",
    "    plt.show()\n",
    "    print(augmented_labels[i])\n",
    "    color_image = np.stack([X_train_resampled[i][:,:,0], X_train_resampled[i][:,:,1], X_train_resampled[i][:,:,2]], axis=-1)\n",
    "    plt.figure(figsize=(3, 3))\n",
    "    plt.imshow(color_image)\n",
    "    plt.axis(\"off\")\n",
    "    plt.show()\n",
    "    print(y_train_resampled[i])"
   ]
  }
 ],
 "metadata": {
  "kernelspec": {
   "display_name": "Python 3 (ipykernel)",
   "language": "python",
   "name": "python3"
  },
  "language_info": {
   "codemirror_mode": {
    "name": "ipython",
    "version": 3
   },
   "file_extension": ".py",
   "mimetype": "text/x-python",
   "name": "python",
   "nbconvert_exporter": "python",
   "pygments_lexer": "ipython3",
   "version": "3.11.5"
  }
 },
 "nbformat": 4,
 "nbformat_minor": 5
}
