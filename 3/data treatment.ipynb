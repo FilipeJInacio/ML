{
 "cells": [
  {
   "cell_type": "markdown",
   "id": "c62dc4cd",
   "metadata": {},
   "source": [
    "### **Imports Made**:\n",
    "- Numpy for general purpose tasks (ex: file loads, matrix operations and arrangements, etc)\n",
    "- sklearn.linear_model for the multiple models tested\n",
    "- sklearn.mixture for Gaussian Mixture Model\n",
    "- data_spliter for splitting the data into training and testing sets\n",
    "- matplotlib.pyplot for plotting the data"
   ]
  },
  {
   "cell_type": "code",
   "execution_count": 2,
   "id": "c3a861d5-aa17-477c-8ae7-0f94c1fa30c3",
   "metadata": {},
   "outputs": [],
   "source": [
    "import numpy as np\n",
    "import matplotlib.pyplot as plt\n",
    "from imblearn.over_sampling import SMOTE\n",
    "from sklearn.model_selection import train_test_split\n",
    "import tensorflow as tf"
   ]
  },
  {
   "cell_type": "code",
   "execution_count": 3,
   "id": "267efc7c",
   "metadata": {},
   "outputs": [
    {
     "name": "stdout",
     "output_type": "stream",
     "text": [
      "{0.0: 5358, 1.0: 896}\n",
      "{0.0: 6705, 1.0: 1113}\n",
      "(6254, 2352)\n",
      "(6254,)\n"
     ]
    }
   ],
   "source": [
    "x = np.load(\"Xtrain_Classification1.npy\")\n",
    "y = np.load(\"ytrain_Classification1.npy\")\n",
    "x_project = np.load(\"Xtest_Classification1.npy\")\n",
    "\n",
    "print(x.shape)\n",
    "print(y.shape)"
   ]
  },
  {
   "cell_type": "code",
   "execution_count": null,
   "id": "be0c22f1",
   "metadata": {},
   "outputs": [],
   "source": [
    "database2_x = np.load(\"database2_x.npy\")\n",
    "database2_y = np.load(\"database2_y.npy\")\n",
    "\n",
    "database2_x = database2_x.reshape(7818, -1)\n",
    "\n",
    "unique, counts = np.unique(y, return_counts=True)\n",
    "print(dict(zip(unique, counts)))\n",
    "unique, counts = np.unique(database2_y, return_counts=True)\n",
    "print(dict(zip(unique, counts)))\n",
    "print(x.shape)\n",
    "print(y.shape)"
   ]
  },
  {
   "cell_type": "code",
   "execution_count": 4,
   "id": "986d3846",
   "metadata": {},
   "outputs": [
    {
     "name": "stdout",
     "output_type": "stream",
     "text": [
      "{0.0: 5358, 1.0: 2009}\n"
     ]
    }
   ],
   "source": [
    "database2_x = database2_x[database2_y == 1]\n",
    "database2_y = database2_y[database2_y == 1]\n",
    "\n",
    "x = np.concatenate([(x).astype('float32')/255.0, (database2_x).astype('float32')/255.0], axis=0)\n",
    "y = np.concatenate([y, database2_y], axis=0)\n",
    "\n",
    "x = x.reshape(-1, 28,28,3)\n",
    "\n",
    "unique, counts = np.unique(y, return_counts=True)\n",
    "print(dict(zip(unique, counts)))"
   ]
  },
  {
   "cell_type": "code",
   "execution_count": 5,
   "id": "d2f45b13",
   "metadata": {},
   "outputs": [],
   "source": [
    "datagen = tf.keras.preprocessing.image.ImageDataGenerator(\n",
    "    rotation_range=180,\n",
    "    shear_range=0.2,\n",
    "    zoom_range=0.2,\n",
    "    horizontal_flip=True,\n",
    "    fill_mode='nearest')\n",
    "\n",
    "augmented_data = []\n",
    "augmented_labels = []\n",
    "\n",
    "for i in range(x.shape[0]):\n",
    "    img = x[i]\n",
    "    label = y[i]\n",
    "    if label == 0:\n",
    "        continue\n",
    "    img = img.reshape((1,) + img.shape)  # Reshape the image for flow method\n",
    "    label = np.array([label])  # Convert label to numpy array\n",
    "    for batch in datagen.flow(img, label, batch_size=1):\n",
    "        augmented_data.append(batch[0][0])  # Extract augmented image\n",
    "        augmented_labels.append(batch[1][0])  # Extract augmented label\n",
    "        break  # Exit the loop after one iteration to avoid infinite loop"
   ]
  },
  {
   "cell_type": "code",
   "execution_count": 6,
   "id": "8112fee4",
   "metadata": {},
   "outputs": [],
   "source": [
    "augmented_data = np.array(augmented_data)\n",
    "augmented_labels = np.array(augmented_labels)\n"
   ]
  },
  {
   "cell_type": "code",
   "execution_count": 7,
   "id": "31b8f710",
   "metadata": {},
   "outputs": [
    {
     "data": {
      "image/png": "[encoded data removed]",
      "text/plain": [
       "<Figure size 300x300 with 1 Axes>"
      ]
     },
     "metadata": {},
     "output_type": "display_data"
    },
    {
     "data": {
      "image/png": "[encoded data removed]",
      "text/plain": [
       "<Figure size 300x300 with 1 Axes>"
      ]
     },
     "metadata": {},
     "output_type": "display_data"
    },
    {
     "data": {
      "image/png": "[encoded data removed]",
      "text/plain": [
       "<Figure size 300x300 with 1 Axes>"
      ]
     },
     "metadata": {},
     "output_type": "display_data"
    },
    {
     "data": {
      "image/png": "[encoded data removed]",
      "text/plain": [
       "<Figure size 300x300 with 1 Axes>"
      ]
     },
     "metadata": {},
     "output_type": "display_data"
    }
   ],
   "source": [
    "for i in range(2):\n",
    "    color_image = np.stack([augmented_data[i][:,:,0], augmented_data[i][:,:,1], augmented_data[i][:,:,2]], axis=-1)\n",
    "    plt.figure(figsize=(3, 3))\n",
    "    plt.imshow(color_image)\n",
    "    plt.axis(\"off\")\n",
    "    plt.show()\n",
    "    color_image = np.stack([x[i][:,:,0], x[i][:,:,1], x[i][:,:,2]], axis=-1)\n",
    "    plt.figure(figsize=(3, 3))\n",
    "    plt.imshow(color_image)\n",
    "    plt.axis(\"off\")\n",
    "    plt.show()\n",
    " "
   ]
  },
  {
   "cell_type": "code",
   "execution_count": 11,
   "id": "957b7a63",
   "metadata": {},
   "outputs": [
    {
     "name": "stdout",
     "output_type": "stream",
     "text": [
      "(9376, 28, 28, 3)\n",
      "(9376, 2)\n"
     ]
    }
   ],
   "source": [
    "final_x = np.concatenate((x, augmented_data), axis=0)\n",
    "final_y = np.concatenate((y, augmented_labels), axis=0)\n",
    "\n",
    "final_y = tf.keras.utils.to_categorical(final_y,2)\n",
    "\n",
    "print(final_x.shape)\n",
    "print(final_y.shape)\n",
    "\n",
    "np.save('final_x.npy', final_x)\n",
    "np.save('final_y.npy', final_y)"
   ]
  }
 ],
 "metadata": {
  "kernelspec": {
   "display_name": "Python 3 (ipykernel)",
   "language": "python",
   "name": "python3"
  },
  "language_info": {
   "codemirror_mode": {
    "name": "ipython",
    "version": 3
   },
   "file_extension": ".py",
   "mimetype": "text/x-python",
   "name": "python",
   "nbconvert_exporter": "python",
   "pygments_lexer": "ipython3",
   "version": "3.11.5"
  }
 },
 "nbformat": 4,
 "nbformat_minor": 5
}
