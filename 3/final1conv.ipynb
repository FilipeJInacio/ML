{
 "cells": [
  {
   "cell_type": "markdown",
   "id": "c62dc4cd",
   "metadata": {},
   "source": [
    "### **Imports Made**:\n",
    "- Numpy for general purpose tasks (ex: file loads, matrix operations and arrangements, etc)\n",
    "- sklearn.linear_model for the multiple models tested\n",
    "- sklearn.mixture for Gaussian Mixture Model\n",
    "- data_spliter for splitting the data into training and testing sets\n",
    "- matplotlib.pyplot for plotting the data"
   ]
  },
  {
   "cell_type": "code",
   "execution_count": 28,
   "id": "c3a861d5-aa17-477c-8ae7-0f94c1fa30c3",
   "metadata": {},
   "outputs": [],
   "source": [
    "import numpy as np\n",
    "import matplotlib.pyplot as plt\n",
    "from imblearn.over_sampling import SMOTE\n",
    "from sklearn.model_selection import train_test_split\n",
    "import tensorflow as tf"
   ]
  },
  {
   "cell_type": "code",
   "execution_count": 29,
   "id": "267efc7c",
   "metadata": {},
   "outputs": [],
   "source": [
    "x = np.load(\"Xtrain_Classification1.npy\")\n",
    "y = np.load(\"ytrain_Classification1.npy\")\n",
    "x_project = np.load(\"Xtest_Classification1.npy\")\n",
    "\n",
    "database2_x = np.load(\"database2_x.npy\")\n",
    "database2_y = np.load(\"database2_y.npy\")\n"
   ]
  },
  {
   "cell_type": "code",
   "execution_count": 30,
   "id": "a1d056d1",
   "metadata": {},
   "outputs": [],
   "source": [
    "X_train, X_test, y_train, y_test = train_test_split((x).astype('float32')/255.0, y, test_size=0.2, random_state=1)\n",
    "\n",
    "smote = SMOTE(random_state=1)\n",
    "X_train_resampled, y_train_resampled = smote.fit_resample(X_train, y_train)\n",
    "\n",
    "X_train_resampled = X_train_resampled.reshape(-1, 28, 28, 3)\n",
    "X_test = X_test.reshape(-1, 28, 28, 3)"
   ]
  },
  {
   "cell_type": "code",
   "execution_count": 31,
   "id": "5720b310",
   "metadata": {},
   "outputs": [],
   "source": [
    "datagen = tf.keras.preprocessing.image.ImageDataGenerator(\n",
    "    rotation_range=20,\n",
    "    shear_range=0.2,\n",
    "    zoom_range=0.2,\n",
    "    horizontal_flip=True,\n",
    "    fill_mode='nearest')\n",
    "\n",
    "\n",
    "augmented_data = []\n",
    "augmented_labels = []\n",
    "\n",
    "for i in range(X_train_resampled.shape[0]):\n",
    "    img = X_train_resampled[i]\n",
    "    label = y_train_resampled[i]\n",
    "    img = img.reshape((1,) + img.shape)  # Reshape the image for flow method\n",
    "    label = np.array([label])  # Convert label to numpy array\n",
    "    for batch in datagen.flow(img, label, batch_size=1):\n",
    "        augmented_data.append(batch[0][0])  # Extract augmented image\n",
    "        augmented_labels.append(batch[1][0])  # Extract augmented label\n",
    "        break  # Exit the loop after one iteration to avoid infinite loop\n",
    "\n",
    "# Convert augmented data and labels to numpy arrays\n",
    "augmented_data = np.array(augmented_data)\n",
    "augmented_labels = np.array(augmented_labels)\n",
    "augmented_data=np.round(augmented_data).astype(int)"
   ]
  },
  {
   "cell_type": "code",
   "execution_count": 32,
   "id": "ab9d777a",
   "metadata": {},
   "outputs": [],
   "source": [
    "augmented_labels = tf.keras.utils.to_categorical(augmented_labels,2)\n",
    "y_train_resampled = tf.keras.utils.to_categorical(y_train_resampled,2)\n",
    "y_test = tf.keras.utils.to_categorical(y_test,2)\n",
    "database2_y = tf.keras.utils.to_categorical(database2_y,2)"
   ]
  },
  {
   "cell_type": "code",
   "execution_count": 33,
   "id": "280e0a62",
   "metadata": {},
   "outputs": [
    {
     "name": "stdout",
     "output_type": "stream",
     "text": [
      "(8560, 28, 28, 3)\n",
      "(1251, 28, 28, 3)\n",
      "(8560, 28, 28, 3)\n",
      "[[1. 0.]\n",
      " [0. 1.]]\n",
      "[[1. 0.]\n",
      " [0. 1.]]\n",
      "[[1. 0.]\n",
      " [1. 0.]]\n",
      "(24938, 28, 28, 3)\n",
      "(24938, 2)\n"
     ]
    }
   ],
   "source": [
    "X_train_resampled = np.concatenate([database2_x, X_train_resampled], axis=0)\n",
    "y_train_resampled = np.concatenate([database2_y, y_train_resampled], axis=0)\n",
    "\n",
    "final_x = np.concatenate((X_train_resampled, augmented_data), axis=0)\n",
    "final_y = np.concatenate((y_train_resampled, augmented_labels), axis=0)\n",
    "\n",
    "print(final_x.shape)\n",
    "print(final_y.shape)"
   ]
  },
  {
   "cell_type": "code",
   "execution_count": 34,
   "id": "867928ae",
   "metadata": {},
   "outputs": [
    {
     "ename": "NameError",
     "evalue": "name 'fsdfsdfs' is not defined",
     "output_type": "error",
     "traceback": [
      "\u001b[1;31m---------------------------------------------------------------------------\u001b[0m",
      "\u001b[1;31mNameError\u001b[0m                                 Traceback (most recent call last)",
      "\u001b[1;32mc:\\Users\\fjina\\OneDrive\\Ambiente de Trabalho\\ML\\3\\final1conv.ipynb Cell 8\u001b[0m line \u001b[0;36m1\n\u001b[1;32m----> <a href='vscode-notebook-cell:/c%3A/Users/fjina/OneDrive/Ambiente%20de%20Trabalho/ML/3/final1conv.ipynb#X10sZmlsZQ%3D%3D?line=0'>1</a>\u001b[0m fsdfsdfs\n\u001b[0;32m      <a href='vscode-notebook-cell:/c%3A/Users/fjina/OneDrive/Ambiente%20de%20Trabalho/ML/3/final1conv.ipynb#X10sZmlsZQ%3D%3D?line=1'>2</a>\u001b[0m model \u001b[39m=\u001b[39m tf\u001b[39m.\u001b[39mkeras\u001b[39m.\u001b[39mmodels\u001b[39m.\u001b[39mSequential([\n\u001b[0;32m      <a href='vscode-notebook-cell:/c%3A/Users/fjina/OneDrive/Ambiente%20de%20Trabalho/ML/3/final1conv.ipynb#X10sZmlsZQ%3D%3D?line=2'>3</a>\u001b[0m     tf\u001b[39m.\u001b[39mkeras\u001b[39m.\u001b[39mlayers\u001b[39m.\u001b[39mConv2D(\u001b[39m32\u001b[39m, kernel_size\u001b[39m=\u001b[39m(\u001b[39m3\u001b[39m, \u001b[39m3\u001b[39m), input_shape\u001b[39m=\u001b[39m(\u001b[39m28\u001b[39m, \u001b[39m28\u001b[39m, \u001b[39m3\u001b[39m)),\n\u001b[0;32m      <a href='vscode-notebook-cell:/c%3A/Users/fjina/OneDrive/Ambiente%20de%20Trabalho/ML/3/final1conv.ipynb#X10sZmlsZQ%3D%3D?line=3'>4</a>\u001b[0m     tf\u001b[39m.\u001b[39mkeras\u001b[39m.\u001b[39mlayers\u001b[39m.\u001b[39mBatchNormalization(),\n\u001b[1;32m   (...)\u001b[0m\n\u001b[0;32m     <a href='vscode-notebook-cell:/c%3A/Users/fjina/OneDrive/Ambiente%20de%20Trabalho/ML/3/final1conv.ipynb#X10sZmlsZQ%3D%3D?line=26'>27</a>\u001b[0m     tf\u001b[39m.\u001b[39mkeras\u001b[39m.\u001b[39mlayers\u001b[39m.\u001b[39mDense(\u001b[39m2\u001b[39m, activation\u001b[39m=\u001b[39m\u001b[39m\"\u001b[39m\u001b[39msoftmax\u001b[39m\u001b[39m\"\u001b[39m)\n\u001b[0;32m     <a href='vscode-notebook-cell:/c%3A/Users/fjina/OneDrive/Ambiente%20de%20Trabalho/ML/3/final1conv.ipynb#X10sZmlsZQ%3D%3D?line=27'>28</a>\u001b[0m ])\n\u001b[0;32m     <a href='vscode-notebook-cell:/c%3A/Users/fjina/OneDrive/Ambiente%20de%20Trabalho/ML/3/final1conv.ipynb#X10sZmlsZQ%3D%3D?line=29'>30</a>\u001b[0m model\u001b[39m.\u001b[39mcompile(optimizer\u001b[39m=\u001b[39m\u001b[39m'\u001b[39m\u001b[39madam\u001b[39m\u001b[39m'\u001b[39m, loss\u001b[39m=\u001b[39m\u001b[39m'\u001b[39m\u001b[39mbinary_crossentropy\u001b[39m\u001b[39m'\u001b[39m, metrics\u001b[39m=\u001b[39m[\u001b[39m'\u001b[39m\u001b[39maccuracy\u001b[39m\u001b[39m'\u001b[39m])\n",
      "\u001b[1;31mNameError\u001b[0m: name 'fsdfsdfs' is not defined"
     ]
    }
   ],
   "source": [
    "model = tf.keras.models.Sequential([\n",
    "    tf.keras.layers.Conv2D(32, kernel_size=(3, 3), input_shape=(28, 28, 3)),\n",
    "    tf.keras.layers.BatchNormalization(),\n",
    "    tf.keras.layers.LeakyReLU(alpha=0.1),\n",
    "    tf.keras.layers.MaxPooling2D(pool_size=(2, 2)),\n",
    "    tf.keras.layers.Dropout(0.25),\n",
    "\n",
    "    tf.keras.layers.Conv2D(64, kernel_size=(3, 3)),\n",
    "    tf.keras.layers.BatchNormalization(),\n",
    "    tf.keras.layers.LeakyReLU(alpha=0.1),\n",
    "    tf.keras.layers.MaxPooling2D(pool_size=(2, 2)),\n",
    "    tf.keras.layers.Dropout(0.25),\n",
    "\n",
    "    tf.keras.layers.Conv2D(128, kernel_size=(3, 3)),\n",
    "    tf.keras.layers.BatchNormalization(),\n",
    "    tf.keras.layers.LeakyReLU(alpha=0.1),\n",
    "    tf.keras.layers.MaxPooling2D(pool_size=(2, 2)),\n",
    "    tf.keras.layers.Dropout(0.25),\n",
    "\n",
    "    tf.keras.layers.Flatten(),\n",
    "    tf.keras.layers.Dense(256),\n",
    "    tf.keras.layers.BatchNormalization(),\n",
    "    tf.keras.layers.LeakyReLU(alpha=0.1),\n",
    "    tf.keras.layers.Dropout(0.5),\n",
    "    \n",
    "    tf.keras.layers.Dense(2, activation=\"softmax\")\n",
    "])\n",
    "\n",
    "model.compile(optimizer='adam', loss='binary_crossentropy', metrics=['accuracy'])\n",
    "\n",
    "history = model.fit(X_train_resampled, y_train_resampled, epochs=10, batch_size=64, validation_data=(X_test, y_test))\n",
    "\n",
    "# Extract accuracy values from the training history\n",
    "train_accuracy = history.history['accuracy']\n",
    "val_accuracy = history.history['val_accuracy']\n",
    "\n",
    "# Create a plot\n",
    "plt.figure(figsize=(10, 6))\n",
    "plt.plot(range(1, len(train_accuracy) + 1), train_accuracy, label='Training Accuracy')\n",
    "plt.plot(range(1, len(val_accuracy) + 1), val_accuracy, label='Validation Accuracy')\n",
    "\n",
    "test_loss, test_accuracy = model.evaluate(X_test, y_test)\n",
    "print(f'Test Accuracy: {test_accuracy}')\n",
    "\n",
    "\n",
    "#lr_schedule = tf.keras.optimizers.schedules.ExponentialDecay(\n",
    "#    initial_learning_rate=1e-2,\n",
    "#    decay_steps=10000,\n",
    "#    decay_rate=0.9)\n",
    "\n",
    "#optimizer = tf.keras.optimizers.Adam(learning_rate=lr_schedule)\n",
    "\n",
    "#early_stopping = tf.keras.callbacks.EarlyStopping(\n",
    "    #monitor='val_loss', patience=10, restore_best_weights=True)"
   ]
  },
  {
   "cell_type": "code",
   "execution_count": null,
   "metadata": {},
   "outputs": [
    {
     "name": "stdout",
     "output_type": "stream",
     "text": [
      "40/40 [==============================] - 1s 12ms/step\n",
      "[1. 1. 0. ... 0. 1. 0.]\n"
     ]
    }
   ],
   "source": [
    "y_predi = model.predict(X_test)\n",
    "\n",
    "for i in y_predi:\n",
    "    if i[0]>i[1]:\n",
    "        i[0]=1\n",
    "        i[1]=0\n",
    "    else:\n",
    "        i[0]=0\n",
    "        i[1]=1\n",
    "        \n",
    "print(y_predi[:,0])"
   ]
  },
  {
   "cell_type": "code",
   "execution_count": null,
   "id": "086beed3",
   "metadata": {},
   "outputs": [
    {
     "data": {
      "image/png": "[encoded data removed]",
      "text/plain": [
       "<Figure size 640x480 with 2 Axes>"
      ]
     },
     "metadata": {},
     "output_type": "display_data"
    }
   ],
   "source": [
    "from sklearn.metrics import confusion_matrix,ConfusionMatrixDisplay\n",
    "cm = confusion_matrix(y_predi[:,0],y_test[:,0])\n",
    "cm_display=ConfusionMatrixDisplay(cm).plot()"
   ]
  }
 ],
 "metadata": {
  "kernelspec": {
   "display_name": "Python 3 (ipykernel)",
   "language": "python",
   "name": "python3"
  },
  "language_info": {
   "codemirror_mode": {
    "name": "ipython",
    "version": 3
   },
   "file_extension": ".py",
   "mimetype": "text/x-python",
   "name": "python",
   "nbconvert_exporter": "python",
   "pygments_lexer": "ipython3",
   "version": "3.11.5"
  }
 },
 "nbformat": 4,
 "nbformat_minor": 5
}
