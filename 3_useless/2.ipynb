{
 "cells": [
  {
   "cell_type": "markdown",
   "id": "c62dc4cd",
   "metadata": {},
   "source": [
    "### **Imports Made**:\n",
    "- Numpy for general purpose tasks (ex: file loads, matrix operations and arrangements, etc)\n",
    "- sklearn.linear_model for the multiple models tested\n",
    "- sklearn.mixture for Gaussian Mixture Model\n",
    "- data_spliter for splitting the data into training and testing sets\n",
    "- matplotlib.pyplot for plotting the data"
   ]
  },
  {
   "cell_type": "code",
   "execution_count": 6,
   "id": "c3a861d5-aa17-477c-8ae7-0f94c1fa30c3",
   "metadata": {},
   "outputs": [],
   "source": [
    "import numpy as np\n",
    "import matplotlib.pyplot as plt\n",
    "from sklearn.metrics import balanced_accuracy_score\n",
    "from sklearn.svm import SVC"
   ]
  },
  {
   "cell_type": "code",
   "execution_count": 27,
   "id": "267efc7c",
   "metadata": {},
   "outputs": [
    {
     "name": "stdout",
     "output_type": "stream",
     "text": [
      "(6449, 2352) (6449,) (1764, 2352) (1251, 2352) (1251,)\n"
     ]
    }
   ],
   "source": [
    "X_train = np.load(\"x_train.npy\")\n",
    "y_train = np.load(\"y_train.npy\")\n",
    "#X_train = np.load(\"x_smote.npy\")\n",
    "#y_train = np.load(\"y_smote.npy\")\n",
    "x_project = np.load(\"Xtest_Classification1.npy\")\n",
    "X_test = np.load(\"x_test.npy\")\n",
    "y_test = np.load(\"y_test.npy\")\n",
    "\n",
    "\n",
    "# Convert training set from 0-1 to 0-255\n",
    "#X_train = (X_train*256).astype(np.uint8)\n",
    "#X_test = (X_test*256).astype(np.uint8)\n",
    "\n",
    "y_test = y_test[:,0]\n",
    "y_train = y_train[:,0]\n",
    "X_train = X_train.reshape(X_train.shape[0],-1)\n",
    "X_test = X_test.reshape(X_test.shape[0],-1)\n",
    "\n",
    "print(X_train.shape,y_train.shape,x_project.shape,X_test.shape,y_test.shape)\n"
   ]
  },
  {
   "cell_type": "code",
   "execution_count": 31,
   "id": "197ad6ce",
   "metadata": {},
   "outputs": [],
   "source": [
    "import numpy as np\n",
    "from sklearn.svm import SVC\n",
    "from sklearn.metrics.pairwise import pairwise_kernels\n",
    "from sklearn.metrics import accuracy_score\n",
    "\n",
    "\n",
    "# Define a custom kernel function\n",
    "def rgb_histogram_kernel(X1, X2):\n",
    "    # Calculate the RGB histograms for two images\n",
    "    hist1 = np.histogram(X1, bins=256, range=(0, 1))[0]\n",
    "    hist2 = np.histogram(X2, bins=256, range=(0, 1))[0]\n",
    "\n",
    "    # Calculate the cosine similarity between the histograms\n",
    "    similarity = np.dot(hist1, hist2) / (np.linalg.norm(hist1) * np.linalg.norm(hist2))\n",
    "\n",
    "    return similarity\n",
    "\n",
    "custom_kernel_matrix = pairwise_kernels(X_train, metric=rgb_histogram_kernel)\n",
    "svm_classifier = SVC(kernel='precomputed')\n",
    "svm_classifier.fit(custom_kernel_matrix, y_train)\n",
    "custom_kernel_matrix_test = pairwise_kernels(X_test, X_train, metric=rgb_histogram_kernel)\n",
    "y_predi = svm_classifier.predict(custom_kernel_matrix_test)\n",
    "\n",
    "balanced_accuracy = balanced_accuracy_score(y_test, y_predi)\n",
    "print(\"Balanced Accuracy Score:\", balanced_accuracy)\n",
    "\n"
   ]
  },
  {
   "cell_type": "code",
   "execution_count": 29,
   "id": "086beed3",
   "metadata": {},
   "outputs": [
    {
     "data": {
      "image/png": "[encoded data removed]",
      "text/plain": [
       "<Figure size 640x480 with 2 Axes>"
      ]
     },
     "metadata": {},
     "output_type": "display_data"
    }
   ],
   "source": [
    "from sklearn.metrics import confusion_matrix,ConfusionMatrixDisplay\n",
    "cm = confusion_matrix(y_predi,y_test)\n",
    "cm_display=ConfusionMatrixDisplay(cm).plot()"
   ]
  }
 ],
 "metadata": {
  "kernelspec": {
   "display_name": "Python 3 (ipykernel)",
   "language": "python",
   "name": "python3"
  },
  "language_info": {
   "codemirror_mode": {
    "name": "ipython",
    "version": 3
   },
   "file_extension": ".py",
   "mimetype": "text/x-python",
   "name": "python",
   "nbconvert_exporter": "python",
   "pygments_lexer": "ipython3",
   "version": "3.11.5"
  }
 },
 "nbformat": 4,
 "nbformat_minor": 5
}
