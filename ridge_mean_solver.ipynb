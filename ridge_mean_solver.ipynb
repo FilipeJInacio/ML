{
 "cells": [
  {
   "cell_type": "code",
   "execution_count": 210,
   "id": "6b14239f-07ac-401a-8470-15199bfe188a",
   "metadata": {},
   "outputs": [],
   "source": [
    "import numpy as np\n",
    "import matplotlib.pyplot as plt\n",
    "from sklearn.linear_model import Ridge\n",
    "from sklearn.model_selection import cross_validate, cross_val_score, GridSearchCV, train_test_split, KFold, train_test_split"
   ]
  },
  {
   "cell_type": "code",
   "execution_count": 211,
   "id": "5f2e3c64",
   "metadata": {},
   "outputs": [],
   "source": [
    "alphas = np.linspace(0.00000001, 0.001, 5000)  # (valor inicial, valor final, n.º de prontos)\n",
    "x = np.load(\"X_train_regression1.npy\")\n",
    "y = np.load(\"y_train_regression1.npy\")\n",
    "# x = np.delete(x, 9, 0)\n",
    "# y = np.delete(y, 9, 0)"
   ]
  },
  {
   "cell_type": "code",
   "execution_count": 212,
   "id": "dbb3efb7",
   "metadata": {},
   "outputs": [
    {
     "name": "stdout",
     "output_type": "stream",
     "text": [
      "Ridge(alpha=1.61)\n",
      "{'alpha': 1.61}\n"
     ]
    }
   ],
   "source": [
    "alphas_ridge = np.arange(0.01, 5, 0.1)\n",
    "param_grid = {'alpha': alphas_ridge}\n",
    "\n",
    "grid_ridge = Ridge()\n",
    "grid_search = GridSearchCV(grid_ridge, param_grid, scoring='neg_mean_squared_error', cv=5)\n",
    "grid_search.fit(x, y)\n",
    "\n",
    "print(grid_search.best_estimator_)\n",
    "print(grid_search.best_params_)"
   ]
  },
  {
   "cell_type": "code",
   "execution_count": 213,
   "id": "59815091",
   "metadata": {},
   "outputs": [
    {
     "name": "stdout",
     "output_type": "stream",
     "text": [
      "SSE Mean: 8.392959224794668\n"
     ]
    }
   ],
   "source": [
    "alphas_plot = np.arange(0.1, 4, 0.0001)\n",
    "\n",
    "# print(f'R_2 Normal: {ridge_model.score(x, y)}')\n",
    "\n",
    "num_iterations = 10000\n",
    "scores = []\n",
    "scores_2 = []\n",
    "kFold=KFold(n_splits=6,random_state=42,shuffle=True)\n",
    "\n",
    "ridge_model = Ridge(alpha=2.5)\n",
    "\n",
    "for i in range(num_iterations):\n",
    "    X_train, X_test, y_train, y_test = train_test_split(x, y, test_size=4, train_size=10)\n",
    "    ridge_model.fit(X_train, y_train)\n",
    "    sse = np.sum((np.linalg.norm(y_test - ridge_model.predict(X_test))) ** 2)\n",
    "    # print(f'SSE: {sse} (iteration {i})')\n",
    "    scores.append(sse)\n",
    "\n",
    "print(f'SSE Mean: {np.mean(scores)}')"
   ]
  }
 ],
 "metadata": {
  "kernelspec": {
   "display_name": "Python 3 (ipykernel)",
   "language": "python",
   "name": "python3"
  },
  "language_info": {
   "codemirror_mode": {
    "name": "ipython",
    "version": 3
   },
   "file_extension": ".py",
   "mimetype": "text/x-python",
   "name": "python",
   "nbconvert_exporter": "python",
   "pygments_lexer": "ipython3",
   "version": "3.8.10"
  }
 },
 "nbformat": 4,
 "nbformat_minor": 5
}
