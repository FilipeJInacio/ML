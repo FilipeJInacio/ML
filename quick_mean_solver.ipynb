{
 "cells": [
  {
   "cell_type": "code",
   "execution_count": 129,
   "id": "6b14239f-07ac-401a-8470-15199bfe188a",
   "metadata": {},
   "outputs": [],
   "source": [
    "import numpy as np\n",
    "import matplotlib.pyplot as plt\n",
    "from sklearn.linear_model import Ridge, LassoCV, Lasso, LinearRegression, ElasticNet, LassoLars\n",
    "from sklearn.model_selection import cross_validate, cross_val_score, GridSearchCV, train_test_split, KFold"
   ]
  },
  {
   "cell_type": "code",
   "execution_count": 130,
   "id": "5f2e3c64",
   "metadata": {},
   "outputs": [],
   "source": [
    "alphas = np.linspace(0.00000001, 0.001, 5000)  # (valor inicial, valor final, n.º de prontos)\n",
    "x = np.load(\"X_train_regression1.npy\")\n",
    "y = np.load(\"y_train_regression1.npy\")\n",
    "x_project = np.load(\"X_test_regression1.npy\")\n",
    "# x = np.delete(x, 9, 0)\n",
    "# y = np.delete(y, 9, 0)\n",
    "# x = np.delete(x, 7, 0)\n",
    "# y = np.delete(y, 7, 0)"
   ]
  },
  {
   "cell_type": "code",
   "execution_count": 131,
   "id": "dbb3efb7",
   "metadata": {},
   "outputs": [
    {
     "name": "stdout",
     "output_type": "stream",
     "text": [
      "Ridge(alpha=3.31)\n",
      "{'alpha': 3.31}\n",
      "[[-0.47053638]\n",
      " [ 0.94321582]\n",
      " [ 1.73086072]\n",
      " [ 0.81370501]\n",
      " [-0.72511263]\n",
      " [ 1.17202344]\n",
      " [ 3.48483305]\n",
      " [ 2.76794806]\n",
      " [ 1.27274916]\n",
      " [ 7.78103267]\n",
      " [-1.26008742]\n",
      " [ 0.80163422]\n",
      " [ 0.23453282]\n",
      " [ 0.11518112]\n",
      " [-0.86511605]]\n"
     ]
    }
   ],
   "source": [
    "alphas_ridge = np.arange(0.01, 5, 0.1)\n",
    "param_grid = {'alpha': alphas_ridge}\n",
    "\n",
    "grid_ridge = Ridge()\n",
    "grid_search = GridSearchCV(grid_ridge, param_grid, scoring='r2', cv=5)\n",
    "grid_search.fit(x, y)\n",
    "\n",
    "print(grid_search.best_estimator_)\n",
    "print(grid_search.best_params_)\n",
    "print(y)"
   ]
  },
  {
   "cell_type": "code",
   "execution_count": 132,
   "id": "59815091",
   "metadata": {},
   "outputs": [
    {
     "name": "stdout",
     "output_type": "stream",
     "text": [
      "SSE Mean: 3.0394394519248475\n"
     ]
    }
   ],
   "source": [
    "alphas_plot = np.arange(0.1, 4, 0.0001)\n",
    "num_iterations = [30, 37, 39, 1, 29, 5, 8, 13, 7, 19, 17, 2, 3, 9, 15]\n",
    "remove_points = [30, 31, 1, 4, 2, 5, 3, 8, 7, 36, 12, 18, 24]\n",
    "scores = []\n",
    "# cv_alpha = [0.08713, 0.08713]\n",
    "ridge_model = ElasticNet(alpha=0.113)\n",
    "\n",
    "\n",
    "for i in num_iterations:\n",
    "    X_train, X_test, y_train, y_test = train_test_split(x, y, test_size=1, train_size=14, random_state=i)\n",
    "    ridge_model.fit(X_train, y_train.ravel())\n",
    "    sse = (np.linalg.norm(y_test - ridge_model.predict(X_test))) ** 2\n",
    "    # print(f'SSE: {sse} (iteration {i})')\n",
    "    scores.append(sse)\n",
    "# print(ridge_model.score(X_test, y_test))\n",
    "print(f'SSE Mean: {np.mean(scores)}')\n",
    "\n",
    "# ridge_model.fit(x,y)\n",
    "# y_project = ridge_model.predict(x_project).reshape(-1,1)\n",
    "# print(f'True Results: {y} \\n Predicted Results: {ridge_model.predict(x)}')\n",
    "# np.save(\"y_test_regression1.npy\", y_project)\n",
    "# y_trial = np.load(\"y_test_regression1.npy\")\n",
    "# print(y_trial)"
   ]
  }
 ],
 "metadata": {
  "kernelspec": {
   "display_name": "Python 3 (ipykernel)",
   "language": "python",
   "name": "python3"
  },
  "language_info": {
   "codemirror_mode": {
    "name": "ipython",
    "version": 3
   },
   "file_extension": ".py",
   "mimetype": "text/x-python",
   "name": "python",
   "nbconvert_exporter": "python",
   "pygments_lexer": "ipython3",
   "version": "3.8.10"
  }
 },
 "nbformat": 4,
 "nbformat_minor": 5
}
