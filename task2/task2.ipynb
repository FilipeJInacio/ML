{
 "cells": [
  {
   "cell_type": "code",
   "execution_count": 24,
   "id": "6b14239f-07ac-401a-8470-15199bfe188a",
   "metadata": {},
   "outputs": [],
   "source": [
    "import numpy as np\n",
    "import matplotlib.pyplot as plt\n",
    "from sklearn.linear_model import Ridge, LassoCV, Lasso, LinearRegression, ElasticNet, LassoLars\n",
    "from sklearn.ensemble import RandomForestClassifier\n",
    "from sklearn.model_selection import cross_validate, cross_val_score, GridSearchCV, train_test_split, KFold"
   ]
  },
  {
   "cell_type": "code",
   "execution_count": 25,
   "id": "5f2e3c64",
   "metadata": {},
   "outputs": [
    {
     "name": "stdout",
     "output_type": "stream",
     "text": [
      "[[-0.50841586]\n",
      " [-1.06917509]\n",
      " [-0.06504072]\n",
      " [ 1.03824463]\n",
      " [-0.85627727]\n",
      " [ 2.00109551]\n",
      " [ 1.6989475 ]\n",
      " [ 3.00614005]\n",
      " [ 1.62215736]\n",
      " [ 0.27981739]\n",
      " [-0.06003202]\n",
      " [-1.72134137]\n",
      " [-1.61289995]\n",
      " [ 1.64148214]\n",
      " [ 1.38613963]\n",
      " [-0.26466695]\n",
      " [-0.65493313]\n",
      " [-1.97666428]\n",
      " [ 1.58855284]\n",
      " [ 2.37968456]\n",
      " [ 0.4566255 ]\n",
      " [-1.1704014 ]\n",
      " [-0.12100508]\n",
      " [-0.40382299]\n",
      " [-1.79313694]\n",
      " [-0.88166822]\n",
      " [ 1.15914954]\n",
      " [-0.05266133]\n",
      " [ 1.12459127]\n",
      " [-0.94889053]\n",
      " [ 3.1848026 ]\n",
      " [-0.32516543]\n",
      " [ 2.10945632]\n",
      " [-0.35155512]\n",
      " [-0.33850156]\n",
      " [-0.6375728 ]\n",
      " [-0.61548691]\n",
      " [ 0.46655622]\n",
      " [-0.57876418]\n",
      " [ 1.45494518]\n",
      " [-0.02998235]\n",
      " [-0.282627  ]\n",
      " [ 0.80743755]\n",
      " [ 1.01403624]\n",
      " [-0.46682527]\n",
      " [ 0.69535024]\n",
      " [ 1.73316192]\n",
      " [ 0.65912873]\n",
      " [ 1.48473651]\n",
      " [-1.00491461]\n",
      " [-1.14931806]\n",
      " [ 1.62484494]\n",
      " [ 0.37348834]\n",
      " [-1.28269291]\n",
      " [ 0.67028001]\n",
      " [-0.66198052]\n",
      " [-2.1221918 ]\n",
      " [-0.61437878]\n",
      " [ 0.22603231]\n",
      " [-0.52831007]\n",
      " [ 0.75438872]\n",
      " [-2.19664919]\n",
      " [-0.90444932]\n",
      " [ 0.55800268]\n",
      " [ 0.59726021]\n",
      " [ 2.74336615]\n",
      " [-1.52864385]\n",
      " [ 1.80498773]\n",
      " [-1.17031543]\n",
      " [-1.10052801]\n",
      " [-1.62058274]\n",
      " [-1.8053103 ]\n",
      " [-0.81526228]\n",
      " [-2.53428983]\n",
      " [ 0.31907108]\n",
      " [ 1.6917002 ]\n",
      " [ 0.91420229]\n",
      " [-2.83362002]\n",
      " [-1.12602716]\n",
      " [ 1.05454036]\n",
      " [ 1.89029023]\n",
      " [ 1.40859657]\n",
      " [-2.02628293]\n",
      " [-0.10239082]\n",
      " [-1.82277291]\n",
      " [ 1.26125596]\n",
      " [ 0.6761967 ]\n",
      " [ 0.0231929 ]\n",
      " [-1.21575615]\n",
      " [-2.04772707]\n",
      " [-0.52799212]\n",
      " [ 1.12409267]\n",
      " [-0.27228462]\n",
      " [ 0.18454904]\n",
      " [-1.04166541]\n",
      " [-0.87861567]\n",
      " [ 0.65819819]\n",
      " [-0.51248553]\n",
      " [-0.05375513]\n",
      " [ 0.4947585 ]]\n"
     ]
    }
   ],
   "source": [
    "alphas = np.linspace(0.00000001, 0.001, 5000)  # (valor inicial, valor final, n.º de prontos)\n",
    "x = np.load(\"X_train_regression2.npy\")\n",
    "y = np.load(\"y_train_regression2.npy\")\n",
    "x_project = np.load(\"X_test_regression2.npy\")"
   ]
  },
  {
   "cell_type": "code",
   "execution_count": 26,
   "id": "59815091",
   "metadata": {},
   "outputs": [
    {
     "name": "stdout",
     "output_type": "stream",
     "text": [
      "(100, 4)\n"
     ]
    },
    {
     "name": "stderr",
     "output_type": "stream",
     "text": [
      "/home/user/.local/lib/python3.8/site-packages/sklearn/base.py:1151: DataConversionWarning: A column-vector y was passed when a 1d array was expected. Please change the shape of y to (n_samples,), for example using ravel().\n",
      "  return fit_method(estimator, *args, **kwargs)\n"
     ]
    },
    {
     "ename": "ValueError",
     "evalue": "Unknown label type: continuous. Maybe you are trying to fit a classifier, which expects discrete classes on a regression target with continuous values.",
     "output_type": "error",
     "traceback": [
      "\u001b[0;31m---------------------------------------------------------------------------\u001b[0m",
      "\u001b[0;31mValueError\u001b[0m                                Traceback (most recent call last)",
      "\u001b[1;32m/home/user/AAut/ML/task2/task2.ipynb Cell 3\u001b[0m line \u001b[0;36m3\n\u001b[1;32m      <a href='vscode-notebook-cell:/home/user/AAut/ML/task2/task2.ipynb#W3sZmlsZQ%3D%3D?line=0'>1</a>\u001b[0m \u001b[39mprint\u001b[39m(x\u001b[39m.\u001b[39mshape)\n\u001b[1;32m      <a href='vscode-notebook-cell:/home/user/AAut/ML/task2/task2.ipynb#W3sZmlsZQ%3D%3D?line=1'>2</a>\u001b[0m classifier_model \u001b[39m=\u001b[39m RandomForestClassifier(random_state\u001b[39m=\u001b[39m\u001b[39m0\u001b[39m)\n\u001b[0;32m----> <a href='vscode-notebook-cell:/home/user/AAut/ML/task2/task2.ipynb#W3sZmlsZQ%3D%3D?line=2'>3</a>\u001b[0m classifier_model\u001b[39m.\u001b[39;49mfit(x, y)\n\u001b[1;32m      <a href='vscode-notebook-cell:/home/user/AAut/ML/task2/task2.ipynb#W3sZmlsZQ%3D%3D?line=3'>4</a>\u001b[0m \u001b[39m# y_predict = classifier_model.predict(x_project)\u001b[39;00m\n\u001b[1;32m      <a href='vscode-notebook-cell:/home/user/AAut/ML/task2/task2.ipynb#W3sZmlsZQ%3D%3D?line=4'>5</a>\u001b[0m \u001b[39m# print(y_predict)\u001b[39;00m\n\u001b[1;32m      <a href='vscode-notebook-cell:/home/user/AAut/ML/task2/task2.ipynb#W3sZmlsZQ%3D%3D?line=5'>6</a>\u001b[0m plt\u001b[39m.\u001b[39mplot(x[:, \u001b[39m0\u001b[39m], y, \u001b[39m'\u001b[39m\u001b[39mo\u001b[39m\u001b[39m'\u001b[39m)\n",
      "File \u001b[0;32m~/.local/lib/python3.8/site-packages/sklearn/base.py:1151\u001b[0m, in \u001b[0;36m_fit_context.<locals>.decorator.<locals>.wrapper\u001b[0;34m(estimator, *args, **kwargs)\u001b[0m\n\u001b[1;32m   1144\u001b[0m     estimator\u001b[39m.\u001b[39m_validate_params()\n\u001b[1;32m   1146\u001b[0m \u001b[39mwith\u001b[39;00m config_context(\n\u001b[1;32m   1147\u001b[0m     skip_parameter_validation\u001b[39m=\u001b[39m(\n\u001b[1;32m   1148\u001b[0m         prefer_skip_nested_validation \u001b[39mor\u001b[39;00m global_skip_validation\n\u001b[1;32m   1149\u001b[0m     )\n\u001b[1;32m   1150\u001b[0m ):\n\u001b[0;32m-> 1151\u001b[0m     \u001b[39mreturn\u001b[39;00m fit_method(estimator, \u001b[39m*\u001b[39;49margs, \u001b[39m*\u001b[39;49m\u001b[39m*\u001b[39;49mkwargs)\n",
      "File \u001b[0;32m~/.local/lib/python3.8/site-packages/sklearn/ensemble/_forest.py:390\u001b[0m, in \u001b[0;36mBaseForest.fit\u001b[0;34m(self, X, y, sample_weight)\u001b[0m\n\u001b[1;32m    383\u001b[0m         \u001b[39mraise\u001b[39;00m \u001b[39mValueError\u001b[39;00m(\n\u001b[1;32m    384\u001b[0m             \u001b[39m\"\u001b[39m\u001b[39mSum of y is not strictly positive which \u001b[39m\u001b[39m\"\u001b[39m\n\u001b[1;32m    385\u001b[0m             \u001b[39m\"\u001b[39m\u001b[39mis necessary for Poisson regression.\u001b[39m\u001b[39m\"\u001b[39m\n\u001b[1;32m    386\u001b[0m         )\n\u001b[1;32m    388\u001b[0m \u001b[39mself\u001b[39m\u001b[39m.\u001b[39mn_outputs_ \u001b[39m=\u001b[39m y\u001b[39m.\u001b[39mshape[\u001b[39m1\u001b[39m]\n\u001b[0;32m--> 390\u001b[0m y, expanded_class_weight \u001b[39m=\u001b[39m \u001b[39mself\u001b[39;49m\u001b[39m.\u001b[39;49m_validate_y_class_weight(y)\n\u001b[1;32m    392\u001b[0m \u001b[39mif\u001b[39;00m \u001b[39mgetattr\u001b[39m(y, \u001b[39m\"\u001b[39m\u001b[39mdtype\u001b[39m\u001b[39m\"\u001b[39m, \u001b[39mNone\u001b[39;00m) \u001b[39m!=\u001b[39m DOUBLE \u001b[39mor\u001b[39;00m \u001b[39mnot\u001b[39;00m y\u001b[39m.\u001b[39mflags\u001b[39m.\u001b[39mcontiguous:\n\u001b[1;32m    393\u001b[0m     y \u001b[39m=\u001b[39m np\u001b[39m.\u001b[39mascontiguousarray(y, dtype\u001b[39m=\u001b[39mDOUBLE)\n",
      "File \u001b[0;32m~/.local/lib/python3.8/site-packages/sklearn/ensemble/_forest.py:749\u001b[0m, in \u001b[0;36mForestClassifier._validate_y_class_weight\u001b[0;34m(self, y)\u001b[0m\n\u001b[1;32m    748\u001b[0m \u001b[39mdef\u001b[39;00m \u001b[39m_validate_y_class_weight\u001b[39m(\u001b[39mself\u001b[39m, y):\n\u001b[0;32m--> 749\u001b[0m     check_classification_targets(y)\n\u001b[1;32m    751\u001b[0m     y \u001b[39m=\u001b[39m np\u001b[39m.\u001b[39mcopy(y)\n\u001b[1;32m    752\u001b[0m     expanded_class_weight \u001b[39m=\u001b[39m \u001b[39mNone\u001b[39;00m\n",
      "File \u001b[0;32m~/.local/lib/python3.8/site-packages/sklearn/utils/multiclass.py:215\u001b[0m, in \u001b[0;36mcheck_classification_targets\u001b[0;34m(y)\u001b[0m\n\u001b[1;32m    207\u001b[0m y_type \u001b[39m=\u001b[39m type_of_target(y, input_name\u001b[39m=\u001b[39m\u001b[39m\"\u001b[39m\u001b[39my\u001b[39m\u001b[39m\"\u001b[39m)\n\u001b[1;32m    208\u001b[0m \u001b[39mif\u001b[39;00m y_type \u001b[39mnot\u001b[39;00m \u001b[39min\u001b[39;00m [\n\u001b[1;32m    209\u001b[0m     \u001b[39m\"\u001b[39m\u001b[39mbinary\u001b[39m\u001b[39m\"\u001b[39m,\n\u001b[1;32m    210\u001b[0m     \u001b[39m\"\u001b[39m\u001b[39mmulticlass\u001b[39m\u001b[39m\"\u001b[39m,\n\u001b[0;32m   (...)\u001b[0m\n\u001b[1;32m    213\u001b[0m     \u001b[39m\"\u001b[39m\u001b[39mmultilabel-sequences\u001b[39m\u001b[39m\"\u001b[39m,\n\u001b[1;32m    214\u001b[0m ]:\n\u001b[0;32m--> 215\u001b[0m     \u001b[39mraise\u001b[39;00m \u001b[39mValueError\u001b[39;00m(\n\u001b[1;32m    216\u001b[0m         \u001b[39mf\u001b[39m\u001b[39m\"\u001b[39m\u001b[39mUnknown label type: \u001b[39m\u001b[39m{\u001b[39;00my_type\u001b[39m}\u001b[39;00m\u001b[39m. Maybe you are trying to fit a \u001b[39m\u001b[39m\"\u001b[39m\n\u001b[1;32m    217\u001b[0m         \u001b[39m\"\u001b[39m\u001b[39mclassifier, which expects discrete classes on a \u001b[39m\u001b[39m\"\u001b[39m\n\u001b[1;32m    218\u001b[0m         \u001b[39m\"\u001b[39m\u001b[39mregression target with continuous values.\u001b[39m\u001b[39m\"\u001b[39m\n\u001b[1;32m    219\u001b[0m     )\n",
      "\u001b[0;31mValueError\u001b[0m: Unknown label type: continuous. Maybe you are trying to fit a classifier, which expects discrete classes on a regression target with continuous values."
     ]
    }
   ],
   "source": [
    "print(x.shape)\n",
    "classifier_model = RandomForestClassifier(random_state=0)\n",
    "classifier_model.fit(x, y)\n",
    "# y_predict = classifier_model.predict(x_project)\n",
    "# print(y_predict)\n",
    "plt.plot(x[:, 0], y, 'o')\n",
    "plt.plot(x[:, 1], y, 'o')\n",
    "plt.plot(x[:, 2], y, 'o')\n",
    "plt.plot(x[:, 3], y, 'o')"
   ]
  }
 ],
 "metadata": {
  "kernelspec": {
   "display_name": "Python 3 (ipykernel)",
   "language": "python",
   "name": "python3"
  },
  "language_info": {
   "codemirror_mode": {
    "name": "ipython",
    "version": 3
   },
   "file_extension": ".py",
   "mimetype": "text/x-python",
   "name": "python",
   "nbconvert_exporter": "python",
   "pygments_lexer": "ipython3",
   "version": "3.8.10"
  }
 },
 "nbformat": 4,
 "nbformat_minor": 5
}
