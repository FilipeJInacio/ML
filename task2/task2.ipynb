{
 "cells": [
  {
   "cell_type": "markdown",
   "id": "de10c52e",
   "metadata": {},
   "source": [
    "### **Imports Made**:\n",
    "- Numpy for general purpose tasks (ex: file loads, matrix operations and arrangements, etc)\n",
    "- sklearn.linear_model for the multiple models tested\n",
    "- sklearn.model_selection for hyperparameter tuning and SSE calculation\n",
    "\n",
    "All model selection methods were utilized at some point, but **train_test_split** proved to be the best tool for this situation."
   ]
  },
  {
   "cell_type": "code",
   "execution_count": 1,
   "id": "6b14239f-07ac-401a-8470-15199bfe188a",
   "metadata": {},
   "outputs": [],
   "source": [
    "import numpy as np\n",
    "import matplotlib.pyplot as plt\n",
    "from sklearn.linear_model import Ridge, LassoCV, Lasso, LinearRegression, ElasticNet, LassoLars\n",
    "from sklearn.model_selection import cross_validate, cross_val_score, GridSearchCV, train_test_split, KFold"
   ]
  },
  {
   "cell_type": "markdown",
   "id": "2240f6e3",
   "metadata": {},
   "source": [
    "### **Data Extraction**:\n",
    "\n",
    "Input files are loaded into variables *x*, *y* and *x_project*, this last one being from the *x_test* file. Commented below is a subset of code that performs outlier removal of two points who in a previous analysis were thought to be harmful for our model. But later these points did appear to have a degree of importance, especially due to them being similar to a couple of points in the testing samples. What is not commented, is the removal of four features from x_train and x_test, these same features from analysis through lasso revealed to be a little bit harmful to the SSE of our model. Thus, removing said dimensions improves our accuracy while still keeping our model structured and secure."
   ]
  },
  {
   "cell_type": "code",
   "execution_count": 2,
   "id": "5f2e3c64",
   "metadata": {},
   "outputs": [],
   "source": [
    "# Load data\n",
    "x = np.load(\"model2_x.npy\")\n",
    "y = np.load(\"model2_y.npy\")\n",
    "# x_project = np.load(\"X_test_regression1.npy\")\n",
    "\n",
    "# Outlier removal (not used in final implementation, but tested)\n",
    "# x = np.delete(x, 9, 0)\n",
    "# y = np.delete(y, 9, 0)\n",
    "# x = np.delete(x, 7, 0)\n",
    "# y = np.delete(y, 7, 0)\n",
    "\n",
    "# Feature Removal\n",
    "# x = np.delete(x, 0, 1)\n",
    "# x = np.delete(x, 3, 1)\n",
    "# x = np.delete(x, 5, 1)\n",
    "# x = np.delete(x, 5, 1)\n",
    "\n",
    "# x_project = np.delete(x_project, 0, 1)\n",
    "# x_project = np.delete(x_project, 3, 1)\n",
    "# x_project = np.delete(x_project, 5, 1)\n",
    "# x_project = np.delete(x_project, 5, 1)"
   ]
  },
  {
   "cell_type": "markdown",
   "id": "37d79d65",
   "metadata": {},
   "source": [
    "### **Grid Search Method**:\n",
    "\n",
    "In our earlier implementations we utilized the **GridSearchCV** function as shown below for the automatic calculation of an optimal hyperparameter of our model. However, for our specific dataset, a more \"hands-on\" method for hyperparameter determination was adopted, as we will show in latter parts of the code. Nonetheless this method still provided near-optimal results."
   ]
  },
  {
   "cell_type": "code",
   "execution_count": 3,
   "id": "dbb3efb7",
   "metadata": {},
   "outputs": [
    {
     "data": {
      "text/html": [
       "<style>#sk-container-id-1 {color: black;}#sk-container-id-1 pre{padding: 0;}#sk-container-id-1 div.sk-toggleable {background-color: white;}#sk-container-id-1 label.sk-toggleable__label {cursor: pointer;display: block;width: 100%;margin-bottom: 0;padding: 0.3em;box-sizing: border-box;text-align: center;}#sk-container-id-1 label.sk-toggleable__label-arrow:before {content: \"▸\";float: left;margin-right: 0.25em;color: #696969;}#sk-container-id-1 label.sk-toggleable__label-arrow:hover:before {color: black;}#sk-container-id-1 div.sk-estimator:hover label.sk-toggleable__label-arrow:before {color: black;}#sk-container-id-1 div.sk-toggleable__content {max-height: 0;max-width: 0;overflow: hidden;text-align: left;background-color: #f0f8ff;}#sk-container-id-1 div.sk-toggleable__content pre {margin: 0.2em;color: black;border-radius: 0.25em;background-color: #f0f8ff;}#sk-container-id-1 input.sk-toggleable__control:checked~div.sk-toggleable__content {max-height: 200px;max-width: 100%;overflow: auto;}#sk-container-id-1 input.sk-toggleable__control:checked~label.sk-toggleable__label-arrow:before {content: \"▾\";}#sk-container-id-1 div.sk-estimator input.sk-toggleable__control:checked~label.sk-toggleable__label {background-color: #d4ebff;}#sk-container-id-1 div.sk-label input.sk-toggleable__control:checked~label.sk-toggleable__label {background-color: #d4ebff;}#sk-container-id-1 input.sk-hidden--visually {border: 0;clip: rect(1px 1px 1px 1px);clip: rect(1px, 1px, 1px, 1px);height: 1px;margin: -1px;overflow: hidden;padding: 0;position: absolute;width: 1px;}#sk-container-id-1 div.sk-estimator {font-family: monospace;background-color: #f0f8ff;border: 1px dotted black;border-radius: 0.25em;box-sizing: border-box;margin-bottom: 0.5em;}#sk-container-id-1 div.sk-estimator:hover {background-color: #d4ebff;}#sk-container-id-1 div.sk-parallel-item::after {content: \"\";width: 100%;border-bottom: 1px solid gray;flex-grow: 1;}#sk-container-id-1 div.sk-label:hover label.sk-toggleable__label {background-color: #d4ebff;}#sk-container-id-1 div.sk-serial::before {content: \"\";position: absolute;border-left: 1px solid gray;box-sizing: border-box;top: 0;bottom: 0;left: 50%;z-index: 0;}#sk-container-id-1 div.sk-serial {display: flex;flex-direction: column;align-items: center;background-color: white;padding-right: 0.2em;padding-left: 0.2em;position: relative;}#sk-container-id-1 div.sk-item {position: relative;z-index: 1;}#sk-container-id-1 div.sk-parallel {display: flex;align-items: stretch;justify-content: center;background-color: white;position: relative;}#sk-container-id-1 div.sk-item::before, #sk-container-id-1 div.sk-parallel-item::before {content: \"\";position: absolute;border-left: 1px solid gray;box-sizing: border-box;top: 0;bottom: 0;left: 50%;z-index: -1;}#sk-container-id-1 div.sk-parallel-item {display: flex;flex-direction: column;z-index: 1;position: relative;background-color: white;}#sk-container-id-1 div.sk-parallel-item:first-child::after {align-self: flex-end;width: 50%;}#sk-container-id-1 div.sk-parallel-item:last-child::after {align-self: flex-start;width: 50%;}#sk-container-id-1 div.sk-parallel-item:only-child::after {width: 0;}#sk-container-id-1 div.sk-dashed-wrapped {border: 1px dashed gray;margin: 0 0.4em 0.5em 0.4em;box-sizing: border-box;padding-bottom: 0.4em;background-color: white;}#sk-container-id-1 div.sk-label label {font-family: monospace;font-weight: bold;display: inline-block;line-height: 1.2em;}#sk-container-id-1 div.sk-label-container {text-align: center;}#sk-container-id-1 div.sk-container {/* jupyter's `normalize.less` sets `[hidden] { display: none; }` but bootstrap.min.css set `[hidden] { display: none !important; }` so we also need the `!important` here to be able to override the default hidden behavior on the sphinx rendered scikit-learn.org. See: https://github.com/scikit-learn/scikit-learn/issues/21755 */display: inline-block !important;position: relative;}#sk-container-id-1 div.sk-text-repr-fallback {display: none;}</style><div id=\"sk-container-id-1\" class=\"sk-top-container\"><div class=\"sk-text-repr-fallback\"><pre>GridSearchCV(cv=5, estimator=Ridge(),\n",
       "             param_grid={&#x27;alpha&#x27;: array([0.01, 0.11, 0.21, 0.31, 0.41, 0.51, 0.61, 0.71, 0.81, 0.91, 1.01,\n",
       "       1.11, 1.21, 1.31, 1.41, 1.51, 1.61, 1.71, 1.81, 1.91, 2.01, 2.11,\n",
       "       2.21, 2.31, 2.41, 2.51, 2.61, 2.71, 2.81, 2.91, 3.01, 3.11, 3.21,\n",
       "       3.31, 3.41, 3.51, 3.61, 3.71, 3.81, 3.91, 4.01, 4.11, 4.21, 4.31,\n",
       "       4.41, 4.51, 4.61, 4.71, 4.81, 4.91])},\n",
       "             scoring=&#x27;r2&#x27;)</pre><b>In a Jupyter environment, please rerun this cell to show the HTML representation or trust the notebook. <br />On GitHub, the HTML representation is unable to render, please try loading this page with nbviewer.org.</b></div><div class=\"sk-container\" hidden><div class=\"sk-item sk-dashed-wrapped\"><div class=\"sk-label-container\"><div class=\"sk-label sk-toggleable\"><input class=\"sk-toggleable__control sk-hidden--visually\" id=\"sk-estimator-id-1\" type=\"checkbox\" ><label for=\"sk-estimator-id-1\" class=\"sk-toggleable__label sk-toggleable__label-arrow\">GridSearchCV</label><div class=\"sk-toggleable__content\"><pre>GridSearchCV(cv=5, estimator=Ridge(),\n",
       "             param_grid={&#x27;alpha&#x27;: array([0.01, 0.11, 0.21, 0.31, 0.41, 0.51, 0.61, 0.71, 0.81, 0.91, 1.01,\n",
       "       1.11, 1.21, 1.31, 1.41, 1.51, 1.61, 1.71, 1.81, 1.91, 2.01, 2.11,\n",
       "       2.21, 2.31, 2.41, 2.51, 2.61, 2.71, 2.81, 2.91, 3.01, 3.11, 3.21,\n",
       "       3.31, 3.41, 3.51, 3.61, 3.71, 3.81, 3.91, 4.01, 4.11, 4.21, 4.31,\n",
       "       4.41, 4.51, 4.61, 4.71, 4.81, 4.91])},\n",
       "             scoring=&#x27;r2&#x27;)</pre></div></div></div><div class=\"sk-parallel\"><div class=\"sk-parallel-item\"><div class=\"sk-item\"><div class=\"sk-label-container\"><div class=\"sk-label sk-toggleable\"><input class=\"sk-toggleable__control sk-hidden--visually\" id=\"sk-estimator-id-2\" type=\"checkbox\" ><label for=\"sk-estimator-id-2\" class=\"sk-toggleable__label sk-toggleable__label-arrow\">estimator: Ridge</label><div class=\"sk-toggleable__content\"><pre>Ridge()</pre></div></div></div><div class=\"sk-serial\"><div class=\"sk-item\"><div class=\"sk-estimator sk-toggleable\"><input class=\"sk-toggleable__control sk-hidden--visually\" id=\"sk-estimator-id-3\" type=\"checkbox\" ><label for=\"sk-estimator-id-3\" class=\"sk-toggleable__label sk-toggleable__label-arrow\">Ridge</label><div class=\"sk-toggleable__content\"><pre>Ridge()</pre></div></div></div></div></div></div></div></div></div></div>"
      ],
      "text/plain": [
       "GridSearchCV(cv=5, estimator=Ridge(),\n",
       "             param_grid={'alpha': array([0.01, 0.11, 0.21, 0.31, 0.41, 0.51, 0.61, 0.71, 0.81, 0.91, 1.01,\n",
       "       1.11, 1.21, 1.31, 1.41, 1.51, 1.61, 1.71, 1.81, 1.91, 2.01, 2.11,\n",
       "       2.21, 2.31, 2.41, 2.51, 2.61, 2.71, 2.81, 2.91, 3.01, 3.11, 3.21,\n",
       "       3.31, 3.41, 3.51, 3.61, 3.71, 3.81, 3.91, 4.01, 4.11, 4.21, 4.31,\n",
       "       4.41, 4.51, 4.61, 4.71, 4.81, 4.91])},\n",
       "             scoring='r2')"
      ]
     },
     "execution_count": 3,
     "metadata": {},
     "output_type": "execute_result"
    }
   ],
   "source": [
    "alphas_ridge = np.arange(0.01, 5, 0.1)  # (initial value, final value, number of values)\n",
    "\n",
    "# param_grid corresponds to the multitude of parameters we want to test\n",
    "param_grid = {'alpha': alphas_ridge}\n",
    "\n",
    "grid_ridge = Ridge()\n",
    "grid_search = GridSearchCV(grid_ridge, param_grid, scoring='r2', cv=5)\n",
    "grid_search.fit(x, y)\n",
    "\n",
    "# Gives us the best alpha value\n",
    "# print(grid_search.best_params_)"
   ]
  },
  {
   "cell_type": "markdown",
   "id": "6a4e73ca",
   "metadata": {},
   "source": [
    "### **Cross-Validation and SSE Calculation**:\n",
    "\n",
    "As stated earlier, we utilize cross-validation to provide us a metric from which to compare models and hyper-parameter tuning, which the function **train_test_split** provides by separating our original training data (*x* and *y*) into two subsets of *X_train*/*y_train* and *X_test*/*y_test*. This ratio was introduced by us to be one test sample per fourteen training samples (Leave One Out CV), as due to our very small sample size, pertains to the best possible characterization of our model. It also helps us that we can reproduce it's entire possible combinations (15), which are all employed, the *y_test* is predicted, and it's SSE is directly calculated. At the end of all these possible arrangement combinations the SSE mean is calculated and displayed."
   ]
  },
  {
   "cell_type": "code",
   "execution_count": 4,
   "id": "59815091",
   "metadata": {},
   "outputs": [
    {
     "name": "stdout",
     "output_type": "stream",
     "text": [
      "SSE Mean: 0.19758489847752086\n"
     ]
    }
   ],
   "source": [
    "# Seed values for random_state, for all possible combinations of features\n",
    "num_iterations = [30, 37, 39, 1, 29, 5, 8, 13, 7, 19, 17, 2, 3, 9, 15]\n",
    "\n",
    "# Seed values for random_state, for all possible combinations of features (with outliers removed)\n",
    "# remove_points = [30, 31, 1, 4, 2, 5, 3, 8, 7, 36, 12, 18, 24]\n",
    "\n",
    "scores = []\n",
    "\n",
    "# Hyper-parameters for CV integrated models (like LassoCV) (not used in final implementation, but tested)\n",
    "# cv_alpha = [0.08713, 0.08713]\n",
    "\n",
    "# Model type was switched out for all models imported, and alpha values tweaked\n",
    "ridge_model = Ridge(alpha=0.301)\n",
    "\n",
    "# For all 15 combinations\n",
    "for i in num_iterations:\n",
    "    \n",
    "    # Split the Data\n",
    "    X_train, X_test, y_train, y_test = train_test_split(x, y, test_size=1, train_size=14, random_state=i)\n",
    "    \n",
    "    # Fit our Model\n",
    "    ridge_model.fit(X_train, y_train.ravel())\n",
    "\n",
    "    # Calculate the SSE\n",
    "    sse = (np.linalg.norm(y_test - ridge_model.predict(X_test))) ** 2\n",
    "    \n",
    "    # Display SSE for each iteration\n",
    "    # print(f'SSE: {sse} (iteration {i})')\n",
    "    \n",
    "    # Display coefficients, which was used (through Lasso) to determine which features to remove\n",
    "    # print(f'{ridge_model.coef_} \\n \\n')\n",
    "    \n",
    "    # Save SSE value in final list\n",
    "    scores.append(sse)\n",
    "\n",
    "# Display mean SSE\n",
    "print(f'SSE Mean: {np.mean(scores)}')"
   ]
  },
  {
   "cell_type": "markdown",
   "id": "c8fb6426",
   "metadata": {},
   "source": [
    "### **Project Submission Procedures**:\n",
    "\n",
    "This module creates our optimal model, fits it into our entire data (save for the features removed), predicts *y_test*, reshapes it into the desired output structure, and saves it into a *.npy* file."
   ]
  },
  {
   "cell_type": "code",
   "execution_count": 5,
   "id": "8ddbd692",
   "metadata": {},
   "outputs": [
    {
     "data": {
      "text/html": [
       "<style>#sk-container-id-2 {color: black;}#sk-container-id-2 pre{padding: 0;}#sk-container-id-2 div.sk-toggleable {background-color: white;}#sk-container-id-2 label.sk-toggleable__label {cursor: pointer;display: block;width: 100%;margin-bottom: 0;padding: 0.3em;box-sizing: border-box;text-align: center;}#sk-container-id-2 label.sk-toggleable__label-arrow:before {content: \"▸\";float: left;margin-right: 0.25em;color: #696969;}#sk-container-id-2 label.sk-toggleable__label-arrow:hover:before {color: black;}#sk-container-id-2 div.sk-estimator:hover label.sk-toggleable__label-arrow:before {color: black;}#sk-container-id-2 div.sk-toggleable__content {max-height: 0;max-width: 0;overflow: hidden;text-align: left;background-color: #f0f8ff;}#sk-container-id-2 div.sk-toggleable__content pre {margin: 0.2em;color: black;border-radius: 0.25em;background-color: #f0f8ff;}#sk-container-id-2 input.sk-toggleable__control:checked~div.sk-toggleable__content {max-height: 200px;max-width: 100%;overflow: auto;}#sk-container-id-2 input.sk-toggleable__control:checked~label.sk-toggleable__label-arrow:before {content: \"▾\";}#sk-container-id-2 div.sk-estimator input.sk-toggleable__control:checked~label.sk-toggleable__label {background-color: #d4ebff;}#sk-container-id-2 div.sk-label input.sk-toggleable__control:checked~label.sk-toggleable__label {background-color: #d4ebff;}#sk-container-id-2 input.sk-hidden--visually {border: 0;clip: rect(1px 1px 1px 1px);clip: rect(1px, 1px, 1px, 1px);height: 1px;margin: -1px;overflow: hidden;padding: 0;position: absolute;width: 1px;}#sk-container-id-2 div.sk-estimator {font-family: monospace;background-color: #f0f8ff;border: 1px dotted black;border-radius: 0.25em;box-sizing: border-box;margin-bottom: 0.5em;}#sk-container-id-2 div.sk-estimator:hover {background-color: #d4ebff;}#sk-container-id-2 div.sk-parallel-item::after {content: \"\";width: 100%;border-bottom: 1px solid gray;flex-grow: 1;}#sk-container-id-2 div.sk-label:hover label.sk-toggleable__label {background-color: #d4ebff;}#sk-container-id-2 div.sk-serial::before {content: \"\";position: absolute;border-left: 1px solid gray;box-sizing: border-box;top: 0;bottom: 0;left: 50%;z-index: 0;}#sk-container-id-2 div.sk-serial {display: flex;flex-direction: column;align-items: center;background-color: white;padding-right: 0.2em;padding-left: 0.2em;position: relative;}#sk-container-id-2 div.sk-item {position: relative;z-index: 1;}#sk-container-id-2 div.sk-parallel {display: flex;align-items: stretch;justify-content: center;background-color: white;position: relative;}#sk-container-id-2 div.sk-item::before, #sk-container-id-2 div.sk-parallel-item::before {content: \"\";position: absolute;border-left: 1px solid gray;box-sizing: border-box;top: 0;bottom: 0;left: 50%;z-index: -1;}#sk-container-id-2 div.sk-parallel-item {display: flex;flex-direction: column;z-index: 1;position: relative;background-color: white;}#sk-container-id-2 div.sk-parallel-item:first-child::after {align-self: flex-end;width: 50%;}#sk-container-id-2 div.sk-parallel-item:last-child::after {align-self: flex-start;width: 50%;}#sk-container-id-2 div.sk-parallel-item:only-child::after {width: 0;}#sk-container-id-2 div.sk-dashed-wrapped {border: 1px dashed gray;margin: 0 0.4em 0.5em 0.4em;box-sizing: border-box;padding-bottom: 0.4em;background-color: white;}#sk-container-id-2 div.sk-label label {font-family: monospace;font-weight: bold;display: inline-block;line-height: 1.2em;}#sk-container-id-2 div.sk-label-container {text-align: center;}#sk-container-id-2 div.sk-container {/* jupyter's `normalize.less` sets `[hidden] { display: none; }` but bootstrap.min.css set `[hidden] { display: none !important; }` so we also need the `!important` here to be able to override the default hidden behavior on the sphinx rendered scikit-learn.org. See: https://github.com/scikit-learn/scikit-learn/issues/21755 */display: inline-block !important;position: relative;}#sk-container-id-2 div.sk-text-repr-fallback {display: none;}</style><div id=\"sk-container-id-2\" class=\"sk-top-container\"><div class=\"sk-text-repr-fallback\"><pre>Ridge(alpha=0.301)</pre><b>In a Jupyter environment, please rerun this cell to show the HTML representation or trust the notebook. <br />On GitHub, the HTML representation is unable to render, please try loading this page with nbviewer.org.</b></div><div class=\"sk-container\" hidden><div class=\"sk-item\"><div class=\"sk-estimator sk-toggleable\"><input class=\"sk-toggleable__control sk-hidden--visually\" id=\"sk-estimator-id-4\" type=\"checkbox\" checked><label for=\"sk-estimator-id-4\" class=\"sk-toggleable__label sk-toggleable__label-arrow\">Ridge</label><div class=\"sk-toggleable__content\"><pre>Ridge(alpha=0.301)</pre></div></div></div></div></div>"
      ],
      "text/plain": [
       "Ridge(alpha=0.301)"
      ]
     },
     "execution_count": 5,
     "metadata": {},
     "output_type": "execute_result"
    }
   ],
   "source": [
    "# Optimal Model Chosen\n",
    "ridge_model = Ridge(alpha=0.301)\n",
    "ridge_model.fit(x,y)\n",
    "\n",
    "# y_test_regression1 prediction and reshape\n",
    "# y_project = ridge_model.predict(x_project).reshape(-1,1)\n",
    "\n",
    "#  y_train and predicted y_train analysis\n",
    "# print(f'True Results: {y} \\n Predicted Results: {ridge_model.predict(x)}')\n",
    "\n",
    "# y_test shape confirmation\n",
    "# print(f'Shape: {y_project.shape}')\n",
    "\n",
    "# File Saved\n",
    "# np.save(\"y_test_regression1.npy\", y_project)\n",
    "\n",
    "# File confirmation and testing\n",
    "# y_trial = np.load(\"y_test_regression1.npy\")\n",
    "# print(y_trial)"
   ]
  },
  {
   "cell_type": "markdown",
   "id": "d3517ce2",
   "metadata": {},
   "source": [
    "### **Plot Generation**:\n",
    "\n",
    "For each model's detailed analysis, it was import to view the model's behavior in SSE for any hyper-parameter fluctuation, so a procedure quite similar to the one previously presented was made, the main diference here being the continous determination of SSE means for the specified hyper-parameter interval. With this, the plot below is created. It was through this model that Lasso's \"instability\" was denoted, and Ridge's \"secureness\" was found. This was emplyoed for all models imported, and to do just that is simply a manner of replacing the \"Ridge\" in the model creation for any one we would like."
   ]
  },
  {
   "cell_type": "code",
   "execution_count": 6,
   "id": "aeb1ecbc",
   "metadata": {},
   "outputs": [
    {
     "data": {
      "image/png": "[encoded data removed]",
      "text/plain": [
       "<Figure size 640x480 with 1 Axes>"
      ]
     },
     "metadata": {},
     "output_type": "display_data"
    },
    {
     "name": "stdout",
     "output_type": "stream",
     "text": [
      "Best SSE: 0.19286925752082024\n",
      "Best Alpha: 0.001\n"
     ]
    }
   ],
   "source": [
    "# Hyper-parameter interval determination\n",
    "alphas_plot = np.arange(0.001, 5, 0.1)  # (initial value, final value, number of values)\n",
    "\n",
    "# Seed values for random_state, for all possible combinations of features\n",
    "num_iterations = [30, 37, 39, 1, 29, 5, 8, 13, 7, 19, 17, 2, 3, 9, 15]\n",
    "\n",
    "# Seed values for random_state, for all possible combinations of features (with outliers removed)\n",
    "# remove_points = [30, 31, 1, 4, 2, 5, 3, 8, 7, 36, 12, 18, 24]\n",
    "\n",
    "# SSE list for each combination, organized through alpha\n",
    "scores = [[] for _ in range(len(num_iterations))] \n",
    "\n",
    "# The list of each SSE mean, organized through alpha\n",
    "list_sse = []\n",
    "\n",
    "# The list of each alpha\n",
    "index_alpha = []\n",
    "\n",
    "# For all 15 combinations\n",
    "for i in range(len(num_iterations)):\n",
    "\n",
    "    # Split the Data\n",
    "    X_train, X_test, y_train, y_test = train_test_split(x, y, test_size=1, train_size=14, random_state=num_iterations[i])\n",
    "    \n",
    "    # For all the alphas\n",
    "    for j in alphas_plot:\n",
    "        \n",
    "        # Create and Fit our Model\n",
    "        ridge_model = Ridge(alpha=j, max_iter=100000)\n",
    "        ridge_model.fit(X_train, y_train)\n",
    "        \n",
    "        # Calculate the SSE\n",
    "        sse = (np.linalg.norm(y_test - ridge_model.predict(X_test))) ** 2\n",
    "        \n",
    "        # Display SSE for each iteration\n",
    "        # print(f'SSE for alpha {j}: {sse} (iteration {i})')\n",
    "        \n",
    "        # Save SSE value in list\n",
    "        scores[i].append(sse)\n",
    "\n",
    "index_alpha = alphas_plot\n",
    "for i, alpha in enumerate(alphas_plot):\n",
    "    # SSE Mean Calculation\n",
    "    list_sse.append(np.mean([scores[j][i] for j in range(len(num_iterations))]))\n",
    "\n",
    "# Plot Parameters\n",
    "plt.plot(index_alpha, list_sse, color=\"green\", linewidth=3, alpha=0.6)\n",
    "plt.xlabel(r\"Alpha [$\\alpha$]\")\n",
    "plt.ylabel(r\"SSE\")\n",
    "plt.title(r\"Hyper-parameter for Ridge Regression\", fontsize=14)\n",
    "plt.grid(linestyle = '--', alpha=0.5)\n",
    "plt.show()\n",
    "\n",
    "# Minimum SSE Value\n",
    "min_value = min(list_sse)\n",
    "print(f'Best SSE: {min_value}')\n",
    "\n",
    "# Best Hyper-parameter\n",
    "print(f'Best Alpha: {index_alpha[list_sse.index(min_value)]}')\n",
    "\n",
    "# Lists saved into .txt files for the final MatLab plots (as seen in the final report!)\n",
    "# np.savetxt('x.txt', index_alpha, fmt='%f')\n",
    "# np.savetxt('y.txt', list_sse, fmt='%f')"
   ]
  }
 ],
 "metadata": {
  "kernelspec": {
   "display_name": "Python 3 (ipykernel)",
   "language": "python",
   "name": "python3"
  },
  "language_info": {
   "codemirror_mode": {
    "name": "ipython",
    "version": 3
   },
   "file_extension": ".py",
   "mimetype": "text/x-python",
   "name": "python",
   "nbconvert_exporter": "python",
   "pygments_lexer": "ipython3",
   "version": "3.8.10"
  }
 },
 "nbformat": 4,
 "nbformat_minor": 5
}
