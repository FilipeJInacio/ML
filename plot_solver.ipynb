{
 "cells": [
  {
   "cell_type": "code",
   "execution_count": 85,
   "id": "6b14239f-07ac-401a-8470-15199bfe188a",
   "metadata": {},
   "outputs": [],
   "source": [
    "import numpy as np\n",
    "import matplotlib.pyplot as plt\n",
    "from sklearn.linear_model import Ridge, Lasso\n",
    "from sklearn.model_selection import cross_validate, cross_val_score, GridSearchCV, train_test_split, KFold, train_test_split"
   ]
  },
  {
   "cell_type": "code",
   "execution_count": 86,
   "id": "5f2e3c64",
   "metadata": {},
   "outputs": [],
   "source": [
    "alphas = np.linspace(0.00000001, 0.001, 5000)  # (valor inicial, valor final, n.º de prontos)\n",
    "x = np.load(\"X_train_regression1.npy\")\n",
    "y = np.load(\"y_train_regression1.npy\")\n",
    "# x = np.delete(x, 9, 0)\n",
    "# y = np.delete(y, 9, 0)\n",
    "# x = np.delete(x, 7, 0)\n",
    "# y = np.delete(y, 7, 0)"
   ]
  },
  {
   "cell_type": "code",
   "execution_count": 87,
   "id": "dbb3efb7",
   "metadata": {},
   "outputs": [
    {
     "name": "stdout",
     "output_type": "stream",
     "text": [
      "Ridge(alpha=1.9100000000000001)\n",
      "{'alpha': 1.9100000000000001}\n"
     ]
    }
   ],
   "source": [
    "alphas_ridge = np.arange(0.01, 5, 0.1)\n",
    "param_grid = {'alpha': alphas_ridge}\n",
    "\n",
    "grid_ridge = Ridge()\n",
    "grid_search = GridSearchCV(grid_ridge, param_grid, scoring='neg_mean_squared_error', cv=5)\n",
    "grid_search.fit(x, y)\n",
    "\n",
    "print(grid_search.best_estimator_)\n",
    "print(grid_search.best_params_)"
   ]
  },
  {
   "cell_type": "code",
   "execution_count": 91,
   "id": "59815091",
   "metadata": {},
   "outputs": [
    {
     "name": "stdout",
     "output_type": "stream",
     "text": [
      "Best SSE: 3.154318804408051\n",
      "Best Alpha: 2.4\n"
     ]
    },
    {
     "data": {
      "image/png": "[encoded data removed]",
      "text/plain": [
       "<Figure size 640x480 with 1 Axes>"
      ]
     },
     "metadata": {},
     "output_type": "display_data"
    }
   ],
   "source": [
    "alphas_plot = np.arange(0.01, 5, 0.01)\n",
    "num_iterations = [30, 37, 39, 1, 29, 5, 8, 13, 7, 19, 17, 2, 3, 9, 15]\n",
    "remove_points = [30, 31, 1, 4, 2, 5, 3, 8, 7, 36, 12, 18, 24]\n",
    "scores = [[] for _ in range(len(num_iterations))] \n",
    "list_sse = []\n",
    "index_alpha = []\n",
    "\n",
    "for i in range(len(num_iterations)):\n",
    "    X_train, X_test, y_train, y_test = train_test_split(x, y, test_size=1, train_size=14, random_state=num_iterations[i])\n",
    "    for j in alphas_plot:\n",
    "        ridge_model = Ridge(alpha=j, max_iter=100000)\n",
    "        ridge_model.fit(X_train, y_train)\n",
    "        sse = (np.linalg.norm(y_test - ridge_model.predict(X_test))) ** 2\n",
    "        # print(f'SSE for alpha {j}: {sse} (iteration {i})')\n",
    "        scores[i].append(sse)\n",
    "\n",
    "index_alpha = alphas_plot\n",
    "for i, alpha in enumerate(alphas_plot):\n",
    "    list_sse.append(np.mean([scores[j][i] for j in range(len(num_iterations))]))\n",
    "\n",
    "plt.plot(index_alpha,list_sse)\n",
    "min_value = min(list_sse)\n",
    "print(f'Best SSE: {min_value}')\n",
    "print(f'Best Alpha: {index_alpha[list_sse.index(min_value)]}')\n",
    "np.savetxt('x.txt', index_alpha, fmt='%f')\n",
    "np.savetxt('y.txt', list_sse, fmt='%f')"
   ]
  }
 ],
 "metadata": {
  "kernelspec": {
   "display_name": "Python 3 (ipykernel)",
   "language": "python",
   "name": "python3"
  },
  "language_info": {
   "codemirror_mode": {
    "name": "ipython",
    "version": 3
   },
   "file_extension": ".py",
   "mimetype": "text/x-python",
   "name": "python",
   "nbconvert_exporter": "python",
   "pygments_lexer": "ipython3",
   "version": "3.8.10"
  }
 },
 "nbformat": 4,
 "nbformat_minor": 5
}
