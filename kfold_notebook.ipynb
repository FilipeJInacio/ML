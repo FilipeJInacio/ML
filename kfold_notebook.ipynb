{
 "cells": [
  {
   "cell_type": "code",
   "execution_count": 2,
   "id": "6b14239f-07ac-401a-8470-15199bfe188a",
   "metadata": {},
   "outputs": [],
   "source": [
    "import numpy as np\n",
    "from sklearn.linear_model import Ridge\n",
    "from sklearn.model_selection import cross_validate, cross_val_score, GridSearchCV, train_test_split, KFold"
   ]
  },
  {
   "cell_type": "code",
   "execution_count": 15,
   "id": "5f2e3c64",
   "metadata": {},
   "outputs": [],
   "source": [
    "alphas = np.linspace(0.00000001, 0.001, 5000)  # (valor inicial, valor final, n.º de prontos)\n",
    "x = np.load(\"X_train_regression1.npy\")\n",
    "y = np.load(\"y_train_regression1.npy\")"
   ]
  },
  {
   "cell_type": "code",
   "execution_count": 26,
   "id": "59815091",
   "metadata": {},
   "outputs": [
    {
     "name": "stdout",
     "output_type": "stream",
     "text": [
      "R_2 Normal: 0.9148811419674343\n",
      "CrossVal R_2: -1.4750431196381746\n"
     ]
    }
   ],
   "source": [
    "ridge_model = Ridge(alpha=1.1)\n",
    "ridge_model.fit(x,y)\n",
    "\n",
    "print(f'R_2 Normal: {ridge_model.score(x, y)}')\n",
    "\n",
    "scores=[]\n",
    "kFold=KFold(n_splits=6,random_state=42,shuffle=True)\n",
    "\n",
    "for train_index,test_index in kFold.split(x):\n",
    "    #print(\"Train Index: \", train_index, \"\\n\")\n",
    "    #print(\"Test Index: \", test_index)\n",
    "    \n",
    "    X_train, X_test, y_train, y_test = x[train_index], x[test_index], y[train_index], y[test_index]\n",
    "    ridge_model.fit(X_train, y_train)\n",
    "    scores.append(ridge_model.score(X_test, y_test))\n",
    "ridge_model.fit(X_train, y_train)\n",
    "\n",
    "scores.append(ridge_model.score(X_test, y_test))\n",
    "print(f'CrossVal R_2: {np.mean(scores)}')"
   ]
  }
 ],
 "metadata": {
  "kernelspec": {
   "display_name": "Python 3 (ipykernel)",
   "language": "python",
   "name": "python3"
  },
  "language_info": {
   "codemirror_mode": {
    "name": "ipython",
    "version": 3
   },
   "file_extension": ".py",
   "mimetype": "text/x-python",
   "name": "python",
   "nbconvert_exporter": "python",
   "pygments_lexer": "ipython3",
   "version": "3.8.10"
  }
 },
 "nbformat": 4,
 "nbformat_minor": 5
}
