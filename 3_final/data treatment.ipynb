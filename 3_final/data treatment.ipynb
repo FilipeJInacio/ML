{
 "cells": [
  {
   "cell_type": "markdown",
   "id": "c62dc4cd",
   "metadata": {},
   "source": [
    "### **Imports Made**:\n",
    "- Numpy for general purpose tasks (ex: file loads, matrix operations and arrangements, etc)\n",
    "- sklearn.linear_model for the multiple models tested\n",
    "- sklearn.mixture for Gaussian Mixture Model\n",
    "- data_spliter for splitting the data into training and testing sets\n",
    "- matplotlib.pyplot for plotting the data"
   ]
  },
  {
   "cell_type": "code",
   "execution_count": 63,
   "id": "c3a861d5-aa17-477c-8ae7-0f94c1fa30c3",
   "metadata": {},
   "outputs": [],
   "source": [
    "import numpy as np\n",
    "import matplotlib.pyplot as plt\n",
    "import tensorflow as tf"
   ]
  },
  {
   "cell_type": "code",
   "execution_count": 64,
   "id": "267efc7c",
   "metadata": {},
   "outputs": [
    {
     "name": "stdout",
     "output_type": "stream",
     "text": [
      "(6254, 28, 28, 3)\n",
      "(6254,)\n"
     ]
    }
   ],
   "source": [
    "x = np.load(\"Xtrain_Classification1.npy\")\n",
    "y = np.load(\"ytrain_Classification1.npy\")\n",
    "\n",
    "x =(x).astype('float32')/255.0\n",
    "x = x.reshape(-1, 28,28,3)\n",
    "\n",
    "print(x.shape)\n",
    "print(y.shape)"
   ]
  },
  {
   "cell_type": "code",
   "execution_count": 65,
   "id": "7bf7b0f1",
   "metadata": {},
   "outputs": [],
   "source": [
    "datagen = tf.keras.preprocessing.image.ImageDataGenerator(\n",
    "    rotation_range=20,\n",
    "    shear_range=0.2,\n",
    "    zoom_range=0.2,\n",
    "    channel_shift_range=0.1,\n",
    "    horizontal_flip=True,\n",
    "    fill_mode='nearest')\n",
    "\n",
    "augmented_data = []\n",
    "augmented_labels = []\n",
    "\n",
    "for i in range(x.shape[0]):\n",
    "    img = x[i]\n",
    "    label = y[i]\n",
    "    if label == 0:\n",
    "        continue\n",
    "    img = img.reshape((1,) + img.shape)  # Reshape the image for flow method\n",
    "    label = np.array([label])  # Convert label to numpy array\n",
    "    for batch in datagen.flow(img, label, batch_size=1):\n",
    "        augmented_data.append(batch[0][0])  # Extract augmented image\n",
    "        augmented_labels.append(batch[1][0])  # Extract augmented label\n",
    "        break  # Exit the loop after one iteration to avoid infinite loop\n",
    "    \n",
    "    \n",
    "datagen = tf.keras.preprocessing.image.ImageDataGenerator(\n",
    "    rotation_range=30,\n",
    "    shear_range=0.2,\n",
    "    zoom_range=0.2,\n",
    "    channel_shift_range=0.05,\n",
    "    horizontal_flip=True,\n",
    "    fill_mode='nearest')\n",
    "\n",
    "augmented_data2 = []\n",
    "augmented_labels2 = []\n",
    "\n",
    "for i in range(x.shape[0]):\n",
    "    img = x[i]\n",
    "    label = y[i]\n",
    "    if label == 0:\n",
    "        continue\n",
    "    img = img.reshape((1,) + img.shape)  # Reshape the image for flow method\n",
    "    label = np.array([label])  # Convert label to numpy array\n",
    "    for batch in datagen.flow(img, label, batch_size=1):\n",
    "        augmented_data2.append(batch[0][0])  # Extract augmented image\n",
    "        augmented_labels2.append(batch[1][0])  # Extract augmented label\n",
    "        break  # Exit the loop after one iteration to avoid infinite loop"
   ]
  },
  {
   "cell_type": "code",
   "execution_count": 66,
   "id": "8112fee4",
   "metadata": {},
   "outputs": [
    {
     "name": "stdout",
     "output_type": "stream",
     "text": [
      "(896, 28, 28, 3)\n",
      "(896, 28, 28, 3)\n"
     ]
    }
   ],
   "source": [
    "augmented_data = np.array(augmented_data)\n",
    "augmented_labels = np.array(augmented_labels)\n",
    "augmented_data2 = np.array(augmented_data2)\n",
    "augmented_labels2 = np.array(augmented_labels2)\n",
    "\n",
    "print(augmented_data.shape)\n",
    "print(augmented_data2.shape)"
   ]
  },
  {
   "cell_type": "code",
   "execution_count": 67,
   "id": "31b8f710",
   "metadata": {},
   "outputs": [
    {
     "data": {
      "image/png": "[encoded data removed]",
      "text/plain": [
       "<Figure size 300x300 with 1 Axes>"
      ]
     },
     "metadata": {},
     "output_type": "display_data"
    },
    {
     "data": {
      "image/png": "[encoded data removed]",
      "text/plain": [
       "<Figure size 300x300 with 1 Axes>"
      ]
     },
     "metadata": {},
     "output_type": "display_data"
    },
    {
     "data": {
      "image/png": "[encoded data removed]",
      "text/plain": [
       "<Figure size 300x300 with 1 Axes>"
      ]
     },
     "metadata": {},
     "output_type": "display_data"
    },
    {
     "data": {
      "image/png": "[encoded data removed]",
      "text/plain": [
       "<Figure size 300x300 with 1 Axes>"
      ]
     },
     "metadata": {},
     "output_type": "display_data"
    },
    {
     "data": {
      "image/png": "[encoded data removed]",
      "text/plain": [
       "<Figure size 300x300 with 1 Axes>"
      ]
     },
     "metadata": {},
     "output_type": "display_data"
    },
    {
     "data": {
      "image/png": "[encoded data removed]",
      "text/plain": [
       "<Figure size 300x300 with 1 Axes>"
      ]
     },
     "metadata": {},
     "output_type": "display_data"
    }
   ],
   "source": [
    "for i in range(2):\n",
    "    color_image = np.stack([augmented_data[i][:,:,0], augmented_data[i][:,:,1], augmented_data[i][:,:,2]], axis=-1)\n",
    "    plt.figure(figsize=(3, 3))\n",
    "    plt.imshow(color_image)\n",
    "    plt.axis(\"off\")\n",
    "    plt.show()\n",
    "    color_image = np.stack([augmented_data2[i][:,:,0], augmented_data2[i][:,:,1], augmented_data2[i][:,:,2]], axis=-1)\n",
    "    plt.figure(figsize=(3, 3))\n",
    "    plt.imshow(color_image)\n",
    "    plt.axis(\"off\")\n",
    "    plt.show()\n",
    "    color_image = np.stack([x[i][:,:,0], x[i][:,:,1], x[i][:,:,2]], axis=-1)\n",
    "    plt.figure(figsize=(3, 3))\n",
    "    plt.imshow(color_image)\n",
    "    plt.axis(\"off\")\n",
    "    plt.show()\n",
    " "
   ]
  },
  {
   "cell_type": "code",
   "execution_count": 68,
   "id": "957b7a63",
   "metadata": {},
   "outputs": [
    {
     "name": "stdout",
     "output_type": "stream",
     "text": [
      "{0.0: 5358, 1.0: 2688}\n",
      "(8046, 28, 28, 3)\n",
      "(8046, 2)\n"
     ]
    }
   ],
   "source": [
    "x = np.concatenate((x, augmented_data), axis=0)\n",
    "y = np.concatenate((y, augmented_labels), axis=0)\n",
    "final_x = np.concatenate((x, augmented_data2), axis=0)\n",
    "final_y = np.concatenate((y, augmented_labels2), axis=0)\n",
    "\n",
    "unique, counts = np.unique(final_y, return_counts=True)\n",
    "print(dict(zip(unique, counts)))\n",
    "\n",
    "final_y = tf.keras.utils.to_categorical(final_y,2)\n",
    "\n",
    "print(final_x.shape)\n",
    "print(final_y.shape)\n",
    "\n",
    "\n",
    "np.save('final_x.npy', final_x)\n",
    "np.save('final_y.npy', final_y)\n"
   ]
  }
 ],
 "metadata": {
  "kernelspec": {
   "display_name": "Python 3 (ipykernel)",
   "language": "python",
   "name": "python3"
  },
  "language_info": {
   "codemirror_mode": {
    "name": "ipython",
    "version": 3
   },
   "file_extension": ".py",
   "mimetype": "text/x-python",
   "name": "python",
   "nbconvert_exporter": "python",
   "pygments_lexer": "ipython3",
   "version": "3.11.5"
  }
 },
 "nbformat": 4,
 "nbformat_minor": 5
}
