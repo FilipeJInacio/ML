{
 "cells": [
  {
   "cell_type": "markdown",
   "id": "c62dc4cd",
   "metadata": {},
   "source": [
    "### **Imports Made**:\n",
    "- Numpy for general purpose tasks (ex: file loads, matrix operations and arrangements, etc)\n",
    "- sklearn.linear_model for the multiple models tested\n",
    "- sklearn.mixture for Gaussian Mixture Model\n",
    "- data_spliter for splitting the data into training and testing sets\n",
    "- matplotlib.pyplot for plotting the data"
   ]
  },
  {
   "cell_type": "code",
   "execution_count": 19,
   "id": "c3a861d5-aa17-477c-8ae7-0f94c1fa30c3",
   "metadata": {},
   "outputs": [],
   "source": [
    "import numpy as np\n",
    "import matplotlib.pyplot as plt\n",
    "import tensorflow as tf\n",
    "from sklearn.model_selection import train_test_split\n",
    "from imblearn.over_sampling import SMOTE"
   ]
  },
  {
   "cell_type": "code",
   "execution_count": 20,
   "id": "267efc7c",
   "metadata": {},
   "outputs": [
    {
     "name": "stdout",
     "output_type": "stream",
     "text": [
      "(6254, 28, 28, 3)\n",
      "(6254,)\n",
      "(5003, 28, 28, 3) (1251, 28, 28, 3) (5003,) (1251,)\n"
     ]
    }
   ],
   "source": [
    "x = np.load(\"Xtrain_Classification1.npy\")\n",
    "y = np.load(\"ytrain_Classification1.npy\")\n",
    "\n",
    "x =(x).astype('float32')/255.0\n",
    "x = x.reshape(-1, 28,28,3)\n",
    "\n",
    "print(x.shape)\n",
    "print(y.shape)\n",
    "\n",
    "x, X_test, y, y_test = train_test_split(x, y, test_size=0.2, random_state=1)\n",
    "\n",
    "print(x.shape, X_test.shape, y.shape, y_test.shape)"
   ]
  },
  {
   "cell_type": "code",
   "execution_count": 21,
   "id": "7bf7b0f1",
   "metadata": {},
   "outputs": [],
   "source": [
    "datagen = tf.keras.preprocessing.image.ImageDataGenerator(\n",
    "    rotation_range=20,\n",
    "    shear_range=0.2,\n",
    "    zoom_range=0.2,\n",
    "    channel_shift_range=0.1,\n",
    "    horizontal_flip=True,\n",
    "    fill_mode='nearest')\n",
    "\n",
    "augmented_data = []\n",
    "augmented_labels = []\n",
    "\n",
    "for i in range(x.shape[0]):\n",
    "    img = x[i]\n",
    "    label = y[i]\n",
    "    if label == 0:\n",
    "        continue\n",
    "    img = img.reshape((1,) + img.shape)  # Reshape the image for flow method\n",
    "    label = np.array([label])  # Convert label to numpy array\n",
    "    for batch in datagen.flow(img, label, batch_size=1):\n",
    "        augmented_data.append(batch[0][0])  # Extract augmented image\n",
    "        augmented_labels.append(batch[1][0])  # Extract augmented label\n",
    "        break  # Exit the loop after one iteration to avoid infinite loop\n",
    "    \n",
    "    \n",
    "datagen = tf.keras.preprocessing.image.ImageDataGenerator(\n",
    "    rotation_range=30,\n",
    "    shear_range=0.2,\n",
    "    zoom_range=0.2,\n",
    "    channel_shift_range=0.05,\n",
    "    horizontal_flip=True,\n",
    "    fill_mode='nearest')\n",
    "\n",
    "augmented_data2 = []\n",
    "augmented_labels2 = []\n",
    "\n",
    "for i in range(x.shape[0]):\n",
    "    img = x[i]\n",
    "    label = y[i]\n",
    "    if label == 0:\n",
    "        continue\n",
    "    img = img.reshape((1,) + img.shape)  # Reshape the image for flow method\n",
    "    label = np.array([label])  # Convert label to numpy array\n",
    "    for batch in datagen.flow(img, label, batch_size=1):\n",
    "        augmented_data2.append(batch[0][0])  # Extract augmented image\n",
    "        augmented_labels2.append(batch[1][0])  # Extract augmented label\n",
    "        break  # Exit the loop after one iteration to avoid infinite loop"
   ]
  },
  {
   "cell_type": "code",
   "execution_count": 22,
   "id": "8112fee4",
   "metadata": {},
   "outputs": [
    {
     "name": "stdout",
     "output_type": "stream",
     "text": [
      "(723, 28, 28, 3)\n",
      "(723, 28, 28, 3)\n"
     ]
    }
   ],
   "source": [
    "augmented_data = np.array(augmented_data)\n",
    "augmented_labels = np.array(augmented_labels)\n",
    "augmented_data2 = np.array(augmented_data2)\n",
    "augmented_labels2 = np.array(augmented_labels2)\n",
    "\n",
    "print(augmented_data.shape)\n",
    "print(augmented_data2.shape)"
   ]
  },
  {
   "cell_type": "code",
   "execution_count": 23,
   "id": "31b8f710",
   "metadata": {},
   "outputs": [
    {
     "data": {
      "image/png": "[encoded data removed]",
      "text/plain": [
       "<Figure size 300x300 with 1 Axes>"
      ]
     },
     "metadata": {},
     "output_type": "display_data"
    },
    {
     "data": {
      "image/png": "[encoded data removed]",
      "text/plain": [
       "<Figure size 300x300 with 1 Axes>"
      ]
     },
     "metadata": {},
     "output_type": "display_data"
    },
    {
     "data": {
      "image/png": "[encoded data removed]",
      "text/plain": [
       "<Figure size 300x300 with 1 Axes>"
      ]
     },
     "metadata": {},
     "output_type": "display_data"
    },
    {
     "data": {
      "image/png": "[encoded data removed]",
      "text/plain": [
       "<Figure size 300x300 with 1 Axes>"
      ]
     },
     "metadata": {},
     "output_type": "display_data"
    },
    {
     "data": {
      "image/png": "[encoded data removed]",
      "text/plain": [
       "<Figure size 300x300 with 1 Axes>"
      ]
     },
     "metadata": {},
     "output_type": "display_data"
    },
    {
     "data": {
      "image/png": "[encoded data removed]",
      "text/plain": [
       "<Figure size 300x300 with 1 Axes>"
      ]
     },
     "metadata": {},
     "output_type": "display_data"
    }
   ],
   "source": [
    "for i in range(2):\n",
    "    color_image = np.stack([augmented_data[i][:,:,0], augmented_data[i][:,:,1], augmented_data[i][:,:,2]], axis=-1)\n",
    "    plt.figure(figsize=(3, 3))\n",
    "    plt.imshow(color_image)\n",
    "    plt.axis(\"off\")\n",
    "    plt.show()\n",
    "    color_image = np.stack([augmented_data2[i][:,:,0], augmented_data2[i][:,:,1], augmented_data2[i][:,:,2]], axis=-1)\n",
    "    plt.figure(figsize=(3, 3))\n",
    "    plt.imshow(color_image)\n",
    "    plt.axis(\"off\")\n",
    "    plt.show()\n",
    "    color_image = np.stack([x[i][:,:,0], x[i][:,:,1], x[i][:,:,2]], axis=-1)\n",
    "    plt.figure(figsize=(3, 3))\n",
    "    plt.imshow(color_image)\n",
    "    plt.axis(\"off\")\n",
    "    plt.show()\n",
    " "
   ]
  },
  {
   "cell_type": "code",
   "execution_count": 24,
   "id": "957b7a63",
   "metadata": {},
   "outputs": [
    {
     "name": "stdout",
     "output_type": "stream",
     "text": [
      "{0.0: 4280, 1.0: 2169}\n",
      "{0.0: 1078, 1.0: 173}\n",
      "(6449, 28, 28, 3)\n",
      "(6449, 2)\n",
      "(1251, 28, 28, 3)\n",
      "(1251, 2)\n"
     ]
    }
   ],
   "source": [
    "x = np.concatenate((x, augmented_data), axis=0)\n",
    "y = np.concatenate((y, augmented_labels), axis=0)\n",
    "final_x = np.concatenate((x, augmented_data2), axis=0)\n",
    "final_y = np.concatenate((y, augmented_labels2), axis=0)\n",
    "\n",
    "unique, counts = np.unique(final_y, return_counts=True)\n",
    "print(dict(zip(unique, counts)))\n",
    "unique, counts = np.unique(y_test, return_counts=True)\n",
    "print(dict(zip(unique, counts)))\n",
    "\n",
    "final_y = tf.keras.utils.to_categorical(final_y,2)\n",
    "y_test = tf.keras.utils.to_categorical(y_test,2)\n",
    "\n",
    "print(final_x.shape)\n",
    "print(final_y.shape)\n",
    "print(X_test.shape)\n",
    "print(y_test.shape)\n",
    "\n",
    "np.save('x_train.npy', final_x)\n",
    "np.save('y_train.npy', final_y)\n",
    "#np.save('x_test.npy', X_test)\n",
    "#np.save('y_test.npy', y_test)\n"
   ]
  }
 ],
 "metadata": {
  "kernelspec": {
   "display_name": "Python 3 (ipykernel)",
   "language": "python",
   "name": "python3"
  },
  "language_info": {
   "codemirror_mode": {
    "name": "ipython",
    "version": 3
   },
   "file_extension": ".py",
   "mimetype": "text/x-python",
   "name": "python",
   "nbconvert_exporter": "python",
   "pygments_lexer": "ipython3",
   "version": "3.11.5"
  }
 },
 "nbformat": 4,
 "nbformat_minor": 5
}
