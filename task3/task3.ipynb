{
 "cells": [
  {
   "cell_type": "markdown",
   "id": "de10c52e",
   "metadata": {},
   "source": [
    "### **Imports Made**:\n",
    "- Numpy for general purpose tasks (ex: file loads, matrix operations and arrangements, etc)\n",
    "- sklearn.linear_model for the multiple models tested\n",
    "- sklearn.model_selection for hyperparameter tuning and SSE calculation\n",
    "\n",
    "All model selection methods were utilized at some point, but **train_test_split** proved to be the best tool for this situation."
   ]
  },
  {
   "cell_type": "code",
   "execution_count": 10,
   "id": "6b14239f-07ac-401a-8470-15199bfe188a",
   "metadata": {},
   "outputs": [],
   "source": [
    "import matplotlib.pyplot as plt\n",
    "import numpy as np\n",
    "import os\n",
    "import tensorflow as tf\n",
    "from sklearn.model_selection import train_test_split"
   ]
  },
  {
   "cell_type": "markdown",
   "id": "2240f6e3",
   "metadata": {},
   "source": [
    "### **Data Extraction**:\n",
    "\n",
    "Input files are loaded into variables *x*, *y* and *x_project*, this last one being from the *x_test* file. Commented below is a subset of code that performs outlier removal of two points who in a previous analysis were thought to be harmful for our model. But later these points did appear to have a degree of importance, especially due to them being similar to a couple of points in the testing samples. What is not commented, is the removal of four features from x_train and x_test, these same features from analysis through lasso revealed to be a little bit harmful to the SSE of our model. Thus, removing said dimensions improves our accuracy while still keeping our model structured and secure."
   ]
  },
  {
   "cell_type": "code",
   "execution_count": 11,
   "id": "5f2e3c64",
   "metadata": {},
   "outputs": [
    {
     "name": "stdout",
     "output_type": "stream",
     "text": [
      "Model: \"sequential_3\"\n",
      "_________________________________________________________________\n",
      " Layer (type)                Output Shape              Param #   \n",
      "=================================================================\n",
      " dense_9 (Dense)             (None, 16)                43216     \n",
      "                                                                 \n",
      " dense_10 (Dense)            (None, 8)                 136       \n",
      "                                                                 \n",
      " dense_11 (Dense)            (None, 2)                 18        \n",
      "                                                                 \n",
      "=================================================================\n",
      "Total params: 43370 (169.41 KB)\n",
      "Trainable params: 43370 (169.41 KB)\n",
      "Non-trainable params: 0 (0.00 Byte)\n",
      "_________________________________________________________________\n",
      "Epoch 1/150\n"
     ]
    },
    {
     "ename": "ValueError",
     "evalue": "in user code:\n\n    File \"/home/user/.local/lib/python3.8/site-packages/keras/src/engine/training.py\", line 1338, in train_function  *\n        return step_function(self, iterator)\n    File \"/home/user/.local/lib/python3.8/site-packages/keras/src/engine/training.py\", line 1322, in step_function  **\n        outputs = model.distribute_strategy.run(run_step, args=(data,))\n    File \"/home/user/.local/lib/python3.8/site-packages/keras/src/engine/training.py\", line 1303, in run_step  **\n        outputs = model.train_step(data)\n    File \"/home/user/.local/lib/python3.8/site-packages/keras/src/engine/training.py\", line 1080, in train_step\n        y_pred = self(x, training=True)\n    File \"/home/user/.local/lib/python3.8/site-packages/keras/src/utils/traceback_utils.py\", line 70, in error_handler\n        raise e.with_traceback(filtered_tb) from None\n    File \"/home/user/.local/lib/python3.8/site-packages/keras/src/engine/input_spec.py\", line 298, in assert_input_compatibility\n        raise ValueError(\n\n    ValueError: Input 0 of layer \"sequential_3\" is incompatible with the layer: expected shape=(None, 2700), found shape=(None, 2352)\n",
     "output_type": "error",
     "traceback": [
      "\u001b[0;31m---------------------------------------------------------------------------\u001b[0m",
      "\u001b[0;31mValueError\u001b[0m                                Traceback (most recent call last)",
      "\u001b[1;32m/home/user/AAut/ML/task3/task3.ipynb Cell 4\u001b[0m line \u001b[0;36m2\n\u001b[1;32m     <a href='vscode-notebook-cell:/home/user/AAut/ML/task3/task3.ipynb#W6sZmlsZQ%3D%3D?line=18'>19</a>\u001b[0m model_MLP\u001b[39m.\u001b[39mcompile(optimizer \u001b[39m=\u001b[39m adam,\n\u001b[1;32m     <a href='vscode-notebook-cell:/home/user/AAut/ML/task3/task3.ipynb#W6sZmlsZQ%3D%3D?line=19'>20</a>\u001b[0m               loss \u001b[39m=\u001b[39m \u001b[39m'\u001b[39m\u001b[39mcategorical_crossentropy\u001b[39m\u001b[39m'\u001b[39m,\n\u001b[1;32m     <a href='vscode-notebook-cell:/home/user/AAut/ML/task3/task3.ipynb#W6sZmlsZQ%3D%3D?line=20'>21</a>\u001b[0m               metrics\u001b[39m=\u001b[39m[\u001b[39m'\u001b[39m\u001b[39maccuracy\u001b[39m\u001b[39m'\u001b[39m])\n\u001b[1;32m     <a href='vscode-notebook-cell:/home/user/AAut/ML/task3/task3.ipynb#W6sZmlsZQ%3D%3D?line=21'>22</a>\u001b[0m \u001b[39m#MLP without early stopping\u001b[39;00m\n\u001b[0;32m---> <a href='vscode-notebook-cell:/home/user/AAut/ML/task3/task3.ipynb#W6sZmlsZQ%3D%3D?line=22'>23</a>\u001b[0m history \u001b[39m=\u001b[39m model_MLP\u001b[39m.\u001b[39;49mfit(x \u001b[39m=\u001b[39;49m X_train,y\u001b[39m=\u001b[39;49my_train,epochs \u001b[39m=\u001b[39;49m epochs,batch_size\u001b[39m=\u001b[39;49mbatch_size,validation_data \u001b[39m=\u001b[39;49m (X_val,y_val))\n\u001b[1;32m     <a href='vscode-notebook-cell:/home/user/AAut/ML/task3/task3.ipynb#W6sZmlsZQ%3D%3D?line=23'>24</a>\u001b[0m x_project \u001b[39m=\u001b[39m np\u001b[39m.\u001b[39mload(\u001b[39m\"\u001b[39m\u001b[39mXtest_Classification1.npy\u001b[39m\u001b[39m\"\u001b[39m)\n\u001b[1;32m     <a href='vscode-notebook-cell:/home/user/AAut/ML/task3/task3.ipynb#W6sZmlsZQ%3D%3D?line=24'>25</a>\u001b[0m BATCH_SIZE \u001b[39m=\u001b[39m x\u001b[39m.\u001b[39mshape[\u001b[39m0\u001b[39m]\n",
      "File \u001b[0;32m~/.local/lib/python3.8/site-packages/keras/src/utils/traceback_utils.py:70\u001b[0m, in \u001b[0;36mfilter_traceback.<locals>.error_handler\u001b[0;34m(*args, **kwargs)\u001b[0m\n\u001b[1;32m     67\u001b[0m     filtered_tb \u001b[39m=\u001b[39m _process_traceback_frames(e\u001b[39m.\u001b[39m__traceback__)\n\u001b[1;32m     68\u001b[0m     \u001b[39m# To get the full stack trace, call:\u001b[39;00m\n\u001b[1;32m     69\u001b[0m     \u001b[39m# `tf.debugging.disable_traceback_filtering()`\u001b[39;00m\n\u001b[0;32m---> 70\u001b[0m     \u001b[39mraise\u001b[39;00m e\u001b[39m.\u001b[39mwith_traceback(filtered_tb) \u001b[39mfrom\u001b[39;00m \u001b[39mNone\u001b[39;00m\n\u001b[1;32m     71\u001b[0m \u001b[39mfinally\u001b[39;00m:\n\u001b[1;32m     72\u001b[0m     \u001b[39mdel\u001b[39;00m filtered_tb\n",
      "File \u001b[0;32m/tmp/__autograph_generated_filecsvbik8l.py:15\u001b[0m, in \u001b[0;36mouter_factory.<locals>.inner_factory.<locals>.tf__train_function\u001b[0;34m(iterator)\u001b[0m\n\u001b[1;32m     13\u001b[0m \u001b[39mtry\u001b[39;00m:\n\u001b[1;32m     14\u001b[0m     do_return \u001b[39m=\u001b[39m \u001b[39mTrue\u001b[39;00m\n\u001b[0;32m---> 15\u001b[0m     retval_ \u001b[39m=\u001b[39m ag__\u001b[39m.\u001b[39mconverted_call(ag__\u001b[39m.\u001b[39mld(step_function), (ag__\u001b[39m.\u001b[39mld(\u001b[39mself\u001b[39m), ag__\u001b[39m.\u001b[39mld(iterator)), \u001b[39mNone\u001b[39;00m, fscope)\n\u001b[1;32m     16\u001b[0m \u001b[39mexcept\u001b[39;00m:\n\u001b[1;32m     17\u001b[0m     do_return \u001b[39m=\u001b[39m \u001b[39mFalse\u001b[39;00m\n",
      "\u001b[0;31mValueError\u001b[0m: in user code:\n\n    File \"/home/user/.local/lib/python3.8/site-packages/keras/src/engine/training.py\", line 1338, in train_function  *\n        return step_function(self, iterator)\n    File \"/home/user/.local/lib/python3.8/site-packages/keras/src/engine/training.py\", line 1322, in step_function  **\n        outputs = model.distribute_strategy.run(run_step, args=(data,))\n    File \"/home/user/.local/lib/python3.8/site-packages/keras/src/engine/training.py\", line 1303, in run_step  **\n        outputs = model.train_step(data)\n    File \"/home/user/.local/lib/python3.8/site-packages/keras/src/engine/training.py\", line 1080, in train_step\n        y_pred = self(x, training=True)\n    File \"/home/user/.local/lib/python3.8/site-packages/keras/src/utils/traceback_utils.py\", line 70, in error_handler\n        raise e.with_traceback(filtered_tb) from None\n    File \"/home/user/.local/lib/python3.8/site-packages/keras/src/engine/input_spec.py\", line 298, in assert_input_compatibility\n        raise ValueError(\n\n    ValueError: Input 0 of layer \"sequential_3\" is incompatible with the layer: expected shape=(None, 2700), found shape=(None, 2352)\n"
     ]
    }
   ],
   "source": [
    "batch_size=500\n",
    "epochs=150\n",
    "lr=0.001\n",
    "# Load data\n",
    "x = np.load(\"Xtrain_Classification1.npy\")\n",
    "y = np.load(\"ytrain_Classification1.npy\")\n",
    "# 255 is the biggest number ant value of x can take\n",
    "train_images = (x).astype('float32')/255.0\n",
    "train_labels = tf.keras.utils.to_categorical(y,2)\n",
    "X_train, X_val, y_train, y_val = train_test_split(train_images, train_labels, test_size=0.2)\n",
    "model_MLP = tf.keras.models.Sequential()\n",
    "model_MLP.add(tf.keras.layers.Dense(16,activation = 'relu',input_dim = 2700))\n",
    "model_MLP.add(tf.keras.layers.Dense(8,activation = 'relu'))\n",
    "model_MLP.add(tf.keras.layers.Dense(2,activation = 'softmax'))\n",
    "\n",
    "model_MLP.summary()\n",
    "\n",
    "adam = tf.keras.optimizers.Adam(learning_rate = lr)\n",
    "model_MLP.compile(optimizer = adam,\n",
    "              loss = 'categorical_crossentropy',\n",
    "              metrics=['accuracy'])\n",
    "#MLP without early stopping\n",
    "history = model_MLP.fit(x = X_train,y=y_train,epochs = epochs,batch_size=batch_size,validation_data = (X_val,y_val))\n",
    "x_project = np.load(\"Xtest_Classification1.npy\")\n",
    "BATCH_SIZE = x.shape[0]\n",
    "IMG_SIZE = (28, 28)\n",
    "images = np.reshape(x,(len(x),28,28,3))\n",
    "train_dataset = tf.data.Dataset.from_tensor_slices((images, y))\n",
    "print(train_dataset)\n",
    "\n",
    "plt.figure(figsize=(10, 10))\n",
    "for i in range(9):\n",
    "    ax = plt.subplot(3, 3, i + 1)\n",
    "    plt.imshow(images[i])\n",
    "    plt.axis(\"off\")\n",
    "\n"
   ]
  }
 ],
 "metadata": {
  "kernelspec": {
   "display_name": "Python 3 (ipykernel)",
   "language": "python",
   "name": "python3"
  },
  "language_info": {
   "codemirror_mode": {
    "name": "ipython",
    "version": 3
   },
   "file_extension": ".py",
   "mimetype": "text/x-python",
   "name": "python",
   "nbconvert_exporter": "python",
   "pygments_lexer": "ipython3",
   "version": "3.8.10"
  }
 },
 "nbformat": 4,
 "nbformat_minor": 5
}
