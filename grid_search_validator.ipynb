{
 "cells": [
  {
   "cell_type": "code",
   "execution_count": 8,
   "id": "6b14239f-07ac-401a-8470-15199bfe188a",
   "metadata": {},
   "outputs": [],
   "source": [
    "import numpy as np\n",
    "import matplotlib.pyplot as plt\n",
    "from sklearn.linear_model import Ridge, LassoCV, Lasso, LinearRegression\n",
    "from sklearn.model_selection import cross_validate, cross_val_score, GridSearchCV, train_test_split, KFold, train_test_split"
   ]
  },
  {
   "cell_type": "code",
   "execution_count": 9,
   "id": "5f2e3c64",
   "metadata": {},
   "outputs": [],
   "source": [
    "alphas = np.linspace(0.00000001, 0.001, 5000)  # (valor inicial, valor final, n.º de prontos)\n",
    "x = np.load(\"X_train_regression1.npy\")\n",
    "y = np.load(\"y_train_regression1.npy\")\n",
    "# x = np.delete(x, 9, 0)\n",
    "# y = np.delete(y, 9, 0)"
   ]
  },
  {
   "cell_type": "code",
   "execution_count": 102,
   "id": "59815091",
   "metadata": {},
   "outputs": [
    {
     "name": "stdout",
     "output_type": "stream",
     "text": [
      "Lasso(alpha=0.01, max_iter=1000000)\n",
      "{'alpha': 0.01}\n",
      "SSE: 42.56344111615292 (iteration 0)\n",
      "y_pred value: [ 1.38885794 -2.85135266] \n",
      "\n",
      "y_test value: [[3.48483305]\n",
      " [0.81370501]] \n",
      "\n",
      "R_2 Score: -3.996761533594733\n",
      "SSE Mean: 42.56344111615292\n"
     ]
    }
   ],
   "source": [
    "alphas = np.arange(0.01, 50, 0.1)\n",
    "param_grid = {'alpha': alphas}\n",
    "scores = []\n",
    "num_iterations = 1\n",
    "\n",
    "grid_model = Lasso(max_iter=1000000)\n",
    "grid_search = GridSearchCV(grid_model, param_grid, scoring='r2', cv=5)\n",
    "for i in range(num_iterations):\n",
    "    X_train, X_test, y_train, y_test = train_test_split(x, y, test_size=1, train_size=14)\n",
    "    grid_search.fit(X_train, y_train)\n",
    "\n",
    "    print(grid_search.best_estimator_)\n",
    "    print(grid_search.best_params_)\n",
    "    \n",
    "    sse = np.linalg.norm((y_test - grid_search.predict(X_test)) ** 2)\n",
    "    print(f'SSE: {sse} (iteration {i})')\n",
    "    scores.append(sse)\n",
    "    print(f'y_pred value: {grid_search.predict(X_test)} \\n')\n",
    "    print(f'y_test value: {y_test} \\n')\n",
    "print(f'R_2 Score: {grid_search.score(X_test, y_test)}')\n",
    "print(f'SSE Mean: {np.mean(scores)}')\n"
   ]
  }
 ],
 "metadata": {
  "kernelspec": {
   "display_name": "Python 3 (ipykernel)",
   "language": "python",
   "name": "python3"
  },
  "language_info": {
   "codemirror_mode": {
    "name": "ipython",
    "version": 3
   },
   "file_extension": ".py",
   "mimetype": "text/x-python",
   "name": "python",
   "nbconvert_exporter": "python",
   "pygments_lexer": "ipython3",
   "version": "3.8.10"
  }
 },
 "nbformat": 4,
 "nbformat_minor": 5
}
